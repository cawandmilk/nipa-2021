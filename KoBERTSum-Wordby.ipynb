{
 "cells": [
  {
   "cell_type": "markdown",
   "metadata": {
    "id": "5PvIa1_bd-ht"
   },
   "source": [
    "# **Default Setting**"
   ]
  },
  {
   "cell_type": "code",
   "execution_count": 2,
   "metadata": {
    "executionInfo": {
     "elapsed": 2793,
     "status": "ok",
     "timestamp": 1624415466322,
     "user": {
      "displayName": "Myung-Gyo Oh",
      "photoUrl": "",
      "userId": "01040732127983096879"
     },
     "user_tz": -540
    },
    "id": "FtlFEWOPf38_"
   },
   "outputs": [],
   "source": [
    "## Transformers.\n",
    "# !pip install -q transformers"
   ]
  },
  {
   "cell_type": "code",
   "execution_count": null,
   "metadata": {},
   "outputs": [],
   "source": [
    "# !pip install torch_optimizer"
   ]
  },
  {
   "cell_type": "code",
   "execution_count": 1,
   "metadata": {
    "colab": {
     "base_uri": "https://localhost:8080/"
    },
    "executionInfo": {
     "elapsed": 4396,
     "status": "ok",
     "timestamp": 1624415471844,
     "user": {
      "displayName": "Myung-Gyo Oh",
      "photoUrl": "",
      "userId": "01040732127983096879"
     },
     "user_tz": -540
    },
    "id": "cuoN-tA_fUlD",
    "outputId": "a9908280-3297-4ac3-f6f2-b009ac82d0da"
   },
   "outputs": [
    {
     "name": "stdout",
     "output_type": "stream",
     "text": [
      "[VERSION INFO]\n",
      "torch       : 1.7.0+cu101\n",
      "torchvision : 0.8.1+cu101\n",
      "transformers: 4.7.0\n"
     ]
    }
   ],
   "source": [
    "import torch\n",
    "import torch.nn as nn\n",
    "import torchvision\n",
    "import torch_optimizer\n",
    "import transformers\n",
    "\n",
    "import datetime\n",
    "import itertools\n",
    "import json\n",
    "import os\n",
    "import re\n",
    "import warnings\n",
    "\n",
    "import numpy as np\n",
    "import pandas as pd\n",
    "\n",
    "from collections import OrderedDict\n",
    "from IPython.display import clear_output\n",
    "from matplotlib import pyplot as plt\n",
    "from pathlib import Path\n",
    "from tqdm import tqdm\n",
    "\n",
    "print(\"[VERSION INFO]\")\n",
    "print(f\"torch       : {torch.__version__}\")\n",
    "print(f\"torchvision : {torchvision.__version__}\")\n",
    "print(f\"transformers: {transformers.__version__}\")"
   ]
  },
  {
   "cell_type": "code",
   "execution_count": 2,
   "metadata": {
    "colab": {
     "base_uri": "https://localhost:8080/"
    },
    "executionInfo": {
     "elapsed": 16747,
     "status": "ok",
     "timestamp": 1624415489969,
     "user": {
      "displayName": "Myung-Gyo Oh",
      "photoUrl": "",
      "userId": "01040732127983096879"
     },
     "user_tz": -540
    },
    "id": "9i9-z_r6eIgR",
    "outputId": "97dc2b4d-33e3-4586-f80d-d1ab57a771e8"
   },
   "outputs": [],
   "source": [
    "# from google.colab import drive\n",
    "# drive.mount(\"/content/drive\")"
   ]
  },
  {
   "cell_type": "code",
   "execution_count": 3,
   "metadata": {
    "colab": {
     "base_uri": "https://localhost:8080/"
    },
    "executionInfo": {
     "elapsed": 267,
     "status": "ok",
     "timestamp": 1624415492498,
     "user": {
      "displayName": "Myung-Gyo Oh",
      "photoUrl": "",
      "userId": "01040732127983096879"
     },
     "user_tz": -540
    },
    "id": "_Wj6_YSJesFF",
    "outputId": "e8a8929c-d9bc-4f01-a3dc-f9caed03ae97"
   },
   "outputs": [
    {
     "name": "stdout",
     "output_type": "stream",
     "text": [
      "Fri Jul  2 00:48:29 2021       \r\n",
      "+-----------------------------------------------------------------------------+\r\n",
      "| NVIDIA-SMI 465.19.01    Driver Version: 465.19.01    CUDA Version: 11.3     |\r\n",
      "|-------------------------------+----------------------+----------------------+\r\n",
      "| GPU  Name        Persistence-M| Bus-Id        Disp.A | Volatile Uncorr. ECC |\r\n",
      "| Fan  Temp  Perf  Pwr:Usage/Cap|         Memory-Usage | GPU-Util  Compute M. |\r\n",
      "|                               |                      |               MIG M. |\r\n",
      "|===============================+======================+======================|\r\n",
      "|   0  NVIDIA Tesla V1...  On   | 00000000:00:05.0 Off |                  Off |\r\n",
      "| N/A   45C    P0    66W / 300W |      0MiB / 32510MiB |      0%      Default |\r\n",
      "|                               |                      |                  N/A |\r\n",
      "+-------------------------------+----------------------+----------------------+\r\n",
      "|   1  NVIDIA Tesla V1...  On   | 00000000:00:06.0 Off |                  Off |\r\n",
      "| N/A   49C    P0    71W / 300W |      0MiB / 32510MiB |      0%      Default |\r\n",
      "|                               |                      |                  N/A |\r\n",
      "+-------------------------------+----------------------+----------------------+\r\n",
      "                                                                               \r\n",
      "+-----------------------------------------------------------------------------+\r\n",
      "| Processes:                                                                  |\r\n",
      "|  GPU   GI   CI        PID   Type   Process name                  GPU Memory |\r\n",
      "|        ID   ID                                                   Usage      |\r\n",
      "|=============================================================================|\r\n",
      "|  No running processes found                                                 |\r\n",
      "+-----------------------------------------------------------------------------+\r\n"
     ]
    }
   ],
   "source": [
    "!nvidia-smi"
   ]
  },
  {
   "cell_type": "code",
   "execution_count": 4,
   "metadata": {},
   "outputs": [
    {
     "name": "stdout",
     "output_type": "stream",
     "text": [
      "nvcc: NVIDIA (R) Cuda compiler driver\r\n",
      "Copyright (c) 2005-2021 NVIDIA Corporation\r\n",
      "Built on Mon_May__3_19:15:13_PDT_2021\r\n",
      "Cuda compilation tools, release 11.3, V11.3.109\r\n",
      "Build cuda_11.3.r11.3/compiler.29920130_0\r\n"
     ]
    }
   ],
   "source": [
    "!nvcc -V"
   ]
  },
  {
   "cell_type": "code",
   "execution_count": 5,
   "metadata": {
    "executionInfo": {
     "elapsed": 260,
     "status": "ok",
     "timestamp": 1624415495294,
     "user": {
      "displayName": "Myung-Gyo Oh",
      "photoUrl": "",
      "userId": "01040732127983096879"
     },
     "user_tz": -540
    },
    "id": "LoTyeT8kePa7"
   },
   "outputs": [
    {
     "data": {
      "text/plain": [
       "device(type='cuda')"
      ]
     },
     "execution_count": 5,
     "metadata": {},
     "output_type": "execute_result"
    }
   ],
   "source": [
    "class HParams(object):\n",
    "    def __init__(self):\n",
    "        ## Default.\n",
    "        self.seed = 42\n",
    "        self.device = torch.device(\"cuda\" if torch.cuda.is_available() else \"cpu\")\n",
    "        \n",
    "        self.cwd = Path.cwd()\n",
    "        # self.cwd = Path(\"/content/drive/MyDrive/NIPA Competition\")\n",
    "        self.data_path = self.cwd / Path(\"data\")\n",
    "        self.submission_path = self.data_path / Path(\"submission\")\n",
    "\n",
    "        ## Dataset.\n",
    "        self.per_replica_batch_size = 40 ## multiple of 8\n",
    "        self.global_batch_size = self.per_replica_batch_size * torch.cuda.device_count()\n",
    "\n",
    "        ## Arguments for compile.\n",
    "        self.lr = 1e-4\n",
    "        self.weight_decay = 1e-4\n",
    "\n",
    "        self.epochs = 10\n",
    "\n",
    "        ## Inference.\n",
    "        self.dummy_label = -1\n",
    "\n",
    "\n",
    "HPARAMS = HParams()\n",
    "HPARAMS.device"
   ]
  },
  {
   "cell_type": "code",
   "execution_count": 6,
   "metadata": {},
   "outputs": [],
   "source": [
    "# torch.cuda.device_count()"
   ]
  },
  {
   "cell_type": "markdown",
   "metadata": {
    "id": "runshbFzeKai"
   },
   "source": [
    "# **Load Examples**"
   ]
  },
  {
   "cell_type": "code",
   "execution_count": 7,
   "metadata": {
    "colab": {
     "base_uri": "https://localhost:8080/"
    },
    "executionInfo": {
     "elapsed": 1017,
     "status": "ok",
     "timestamp": 1624365680751,
     "user": {
      "displayName": "Myung-Gyo Oh",
      "photoUrl": "",
      "userId": "01040732127983096879"
     },
     "user_tz": -540
    },
    "id": "o9pctpfifUhs",
    "outputId": "8f9f377c-370f-4ff6-a524-05706f769228"
   },
   "outputs": [],
   "source": [
    "# tr_df = pd.read_json(HPARAMS.data_path / Path(\"train.json\"), orient = \"records\", encoding = \"utf-8-sig\")\n",
    "# ts_df = pd.read_json(HPARAMS.data_path / Path(\"test.json\"),  orient = \"records\", encoding = \"utf-8-sig\")\n",
    "\n",
    "# print(f\"tr_df.shape: {tr_df.shape}\")\n",
    "# print(f\"ts_df.shape: {ts_df.shape}\")"
   ]
  },
  {
   "cell_type": "code",
   "execution_count": 8,
   "metadata": {
    "colab": {
     "base_uri": "https://localhost:8080/",
     "height": 204
    },
    "executionInfo": {
     "elapsed": 7,
     "status": "ok",
     "timestamp": 1624365680751,
     "user": {
      "displayName": "Myung-Gyo Oh",
      "photoUrl": "",
      "userId": "01040732127983096879"
     },
     "user_tz": -540
    },
    "id": "e6G5eCUSfUel",
    "outputId": "82a992cc-c77e-4dda-c9ef-4c5827d44f4c"
   },
   "outputs": [],
   "source": [
    "# tr_df.head()"
   ]
  },
  {
   "cell_type": "code",
   "execution_count": 9,
   "metadata": {
    "colab": {
     "base_uri": "https://localhost:8080/"
    },
    "executionInfo": {
     "elapsed": 6,
     "status": "ok",
     "timestamp": 1624365680752,
     "user": {
      "displayName": "Myung-Gyo Oh",
      "photoUrl": "",
      "userId": "01040732127983096879"
     },
     "user_tz": -540
    },
    "id": "zx6wgot3fUbu",
    "outputId": "b0dd33ee-78fc-41ca-d088-14d7355a4f11"
   },
   "outputs": [],
   "source": [
    "# tr_df[\"article_original\"][0]"
   ]
  },
  {
   "cell_type": "code",
   "execution_count": 10,
   "metadata": {},
   "outputs": [],
   "source": [
    "# max([len(tr_df[\"article_original\"][i]) for i in range(len(tr_df))])"
   ]
  },
  {
   "cell_type": "markdown",
   "metadata": {
    "id": "xa1KTJxjtyvK"
   },
   "source": [
    "# **Build Dataset**"
   ]
  },
  {
   "cell_type": "code",
   "execution_count": 11,
   "metadata": {
    "executionInfo": {
     "elapsed": 294,
     "status": "ok",
     "timestamp": 1624415497133,
     "user": {
      "displayName": "Myung-Gyo Oh",
      "photoUrl": "",
      "userId": "01040732127983096879"
     },
     "user_tz": -540
    },
    "id": "N0qFTR_8fZgN"
   },
   "outputs": [],
   "source": [
    "class CustomDataset(torch.utils.data.Dataset):\n",
    "    def __init__(self, data_path: str, mode: str, seed: int):\n",
    "        \"\"\"\n",
    "        Args:\n",
    "            data_path (str): train.json, test.json 파일이 저장되어 있는 경로\n",
    "            mode (str)     : 훈련/검증/추론 모드 지정 (in [tr, vl, ts])\n",
    "            seed (int)     : train.json shuffling을 재현하기 위한 고정 시드\n",
    "        \"\"\"\n",
    "        self.data_path = data_path\n",
    "        self.mode = mode.lower()\n",
    "        if self.mode not in [\"tr\", \"vl\", \"ts\"]:\n",
    "            raise AssertionError(f\"Attribute 'mode' must be 'tr', 'vl' or 'ts': not {self.mode}\")\n",
    "\n",
    "        self.seed = seed\n",
    "        self.tokenizer = transformers.AutoTokenizer.from_pretrained(\"beomi/KcELECTRA-base\")\n",
    "        self.df = self.data_loader()\n",
    "\n",
    "    def _load_json(self, path):\n",
    "        \"\"\"\n",
    "        Args:\n",
    "            path (str): 파일을 읽어들일 경로\n",
    "        \"\"\"\n",
    "        return pd.read_json(path, orient = \"records\", encoding = \"utf-8-sig\")\n",
    "\n",
    "    def data_loader(self):\n",
    "        \n",
    "        def _tr_data_loader():\n",
    "            file_path = Path(self.data_path, \"train.json\")\n",
    "            df = self._load_json(file_path)\n",
    "\n",
    "            ## Train / Validaiton split.\n",
    "            df = df.sample(frac = 1., random_state = self.seed)\n",
    "            df = df[:int(len(df) * 0.8)] if self.mode == \"tr\" else df[int(len(df) * 0.8):]\n",
    "\n",
    "            return df\n",
    "        \n",
    "        def _ts_data_loader():\n",
    "            file_path = Path(self.data_path, \"test.json\")\n",
    "            df = self._load_json(file_path)\n",
    "\n",
    "            ## Add dummy label.\n",
    "            df[\"extractive\"] = pd.Series([[HPARAMS.dummy_label] * 3] * len(df[\"article_original\"]))\n",
    "\n",
    "            ## No split.\n",
    "\n",
    "            return df\n",
    "\n",
    "        ## Main phase.\n",
    "        print(f\"Loading {self.mode} dataset...\")\n",
    "        if Path(self.data_path, f\"{self.mode}_df.pt\").is_file():\n",
    "            df = torch.load(Path(self.data_path, f\"{self.mode}_df.pt\"))\n",
    "\n",
    "        else:\n",
    "            df = _tr_data_loader() if self.mode != \"ts\" else _ts_data_loader()\n",
    "\n",
    "            ## Reset index.\n",
    "            df = df.reset_index(drop = True)\n",
    "\n",
    "            ## Preprocessing.\n",
    "            df = self.preprocessing(df)\n",
    "\n",
    "            ## Save dataframe.\n",
    "            df.to_csv(Path(self.data_path, f\"{self.mode}_df.csv\"))\n",
    "            torch.save(df, Path(self.data_path, f\"{self.mode}_df.pt\"))\n",
    "\n",
    "        return df[[\"inp\", \"seg\", \"msk\", \"lng\", \"tar\"]].values\n",
    "\n",
    "    \n",
    "    def _custom_tokenizer(self, article_original):\n",
    "        CLS_TOKEN = self.tokenizer.encode(self.tokenizer.cls_token, add_special_tokens = False) ## [2]\n",
    "        SEP_TOKEN = self.tokenizer.encode(self.tokenizer.sep_token, add_special_tokens = False) ## [3]\n",
    "\n",
    "        margin = 1 + len(article_original) ## CLS 들어갈 자리 1개 + SEP 들어갈 자리 len(article_original)개\n",
    "        encoded = [self.tokenizer.encode(x, \n",
    "                                         max_length = int((512 - margin) / len(article_original)),\n",
    "                                         add_special_tokens = False)\n",
    "                   for x in article_original]\n",
    "\n",
    "        encoded[0] = CLS_TOKEN + encoded[0]\n",
    "        encoded = [i + SEP_TOKEN for i in encoded]\n",
    "\n",
    "        return encoded\n",
    "    \n",
    "    \n",
    "    def _sparse_target(self, inp, tar):\n",
    "        return list(itertools.chain.from_iterable([[tar[i]] * len(inp[i]) for i in range(len(inp))]))\n",
    "    \n",
    "    \n",
    "    def _pad(self, data, pad_id, max_len):\n",
    "        padded_data = data.map(lambda x : np.concatenate([x, [pad_id] * (max_len - len(x))]))\n",
    "        return padded_data\n",
    "\n",
    "    \n",
    "    def preprocessing(self, df):\n",
    "        print(f\"Preprocessing {self.mode} dataset...\")\n",
    "\n",
    "        ## Encoding original text.\n",
    "        df[\"inp\"] = df[\"article_original\"].map(lambda x: self._custom_tokenizer(x))\n",
    "        \n",
    "        ## Encode target first by each words.\n",
    "        max_label_len = max(df[\"article_original\"].map(lambda x: len(x))) ## 50\n",
    "        \n",
    "        df[\"tar\"] = df[\"extractive\"].map(lambda x: [1 if i in x else 0 for i in range(max_label_len)])\n",
    "        df[\"tar\"] = df[[\"inp\", \"tar\"]].apply(lambda x: self._sparse_target(x[0], x[1]), axis = 1)\n",
    "        \n",
    "        ## Encode the others.\n",
    "        df[\"seg\"] = df[\"inp\"].map(lambda x: list(itertools.chain.from_iterable([[i % 2] * len(_x) for i, _x in enumerate(x)])))\n",
    "        df[\"lng\"] = df[\"inp\"].map(lambda x: [len(_x) for _x in x]) ## length of each sentences\n",
    "        df[\"inp\"] = df[\"inp\"].map(lambda x: list(itertools.chain.from_iterable(x)))\n",
    "\n",
    "        ## Add padding.\n",
    "        max_encoding_len = max(df[\"inp\"].map(lambda x: len(x)))\n",
    "        \n",
    "        df[\"inp\"] = self._pad(df[\"inp\"], 0, max_encoding_len)\n",
    "        df[\"seg\"] = self._pad(df[\"seg\"], 0, max_encoding_len)\n",
    "        df[\"lng\"] = self._pad(df[\"lng\"], 0, max_encoding_len)\n",
    "        df[\"tar\"] = self._pad(df[\"tar\"], 0, max_encoding_len)\n",
    "        \n",
    "        df[\"msk\"] = df[\"inp\"].map(lambda x: ~(x == 0))\n",
    "\n",
    "        ## Convert to torch.tensor.\n",
    "        df[\"inp\"] = df[\"inp\"].map(lambda x: torch.tensor(x))\n",
    "        df[\"seg\"] = df[\"seg\"].map(lambda x: torch.tensor(x))\n",
    "        df[\"msk\"] = df[\"msk\"].map(lambda x: torch.tensor(x))\n",
    "        df[\"lng\"] = df[\"lng\"].map(lambda x: torch.tensor(x))\n",
    "        df[\"tar\"] = df[\"tar\"].map(lambda x: torch.tensor(x))\n",
    "        \n",
    "        return df\n",
    "\n",
    "    \n",
    "    def __len__(self):\n",
    "        return len(self.df)\n",
    "\n",
    "    \n",
    "    def __getitem__(self, idx):\n",
    "        return [self.df[idx][i] for i in range(4)], self.df[idx][-1]"
   ]
  },
  {
   "cell_type": "code",
   "execution_count": 12,
   "metadata": {},
   "outputs": [],
   "source": [
    "# !rm -rf $HPARAMS.data_path/*_df.pt\n",
    "# !rm -rf $HPARAMS.data_path/*_df.csv"
   ]
  },
  {
   "cell_type": "code",
   "execution_count": 13,
   "metadata": {
    "colab": {
     "base_uri": "https://localhost:8080/",
     "height": 310,
     "referenced_widgets": [
      "9130206fd930431db94003ce27074d87",
      "99e62e3b3f5c465186d82c16bfe670a5",
      "53b491c64c364873bab73f2ed7f66f08",
      "52dbcfa2481e40aa9b0ba33e81472d5f",
      "b72babdcdb9b43eba1e4a596473c5b59",
      "521654e2e1ca438b841aea13a24054f2",
      "21099975b8534ca9a4fdd0c7ea9a3992",
      "9419ddc097d845daa95babd76d1f378b",
      "db80bba3822c472796a818601bf54ae9",
      "0132a0b3bf6c4ad6bd272c479be91c7d",
      "55743158b30e4234810de67b2ad95e56",
      "816231cad8404401ab9cc06fa0255748",
      "46ffc3de84804a4986baa188d8906a2a",
      "d9695f49135841d9ae871c980a0b474d",
      "e0de25fdd43e4a06b60e2526c9abf831",
      "5e18675427264a9fa471dfa8252828ad",
      "bb21972dadf843c781c30761a2bd4d33",
      "a3a3d06798ac462db712a4fa94a11cbe",
      "014c61f9264e4bfab94d7dfd6c988f19",
      "eac23683984b41c5ad8dc9169cf4b388",
      "8ece8a15312744c9a581cf60aa88451b",
      "e003d0eb1af949969ac9144bba58cdc7",
      "820e8118568543ce8a9903df102d27c4",
      "881975483fe142f8a3979e5abe65f7ab",
      "6f4c3dc85f2c4a83b358575debfcd8be",
      "90c1e65ca42f45ef8a02ed64d8da3c09",
      "9d851e50e8c243288a8291c64cf9a920",
      "6685b6008ea4469f82306368b2df426a",
      "1809371e600e4cc0963a5e0e01e8c349",
      "4c5621d5cf2c48c0b346b1a3bb471265",
      "6c1c9d7b8e224804ae60c5efb700b93e",
      "1323c50898cf4dd0b15c2b4031f2d59f"
     ]
    },
    "executionInfo": {
     "elapsed": 18203,
     "status": "ok",
     "timestamp": 1624415516426,
     "user": {
      "displayName": "Myung-Gyo Oh",
      "photoUrl": "",
      "userId": "01040732127983096879"
     },
     "user_tz": -540
    },
    "id": "Wf1HeFRafZdP",
    "outputId": "8f809221-4529-4ab4-cb77-d0c61dcb36b2"
   },
   "outputs": [
    {
     "name": "stdout",
     "output_type": "stream",
     "text": [
      "Loading tr dataset...\n",
      "Loading vl dataset...\n",
      "Loading ts dataset...\n",
      "CPU times: user 7.24 s, sys: 844 ms, total: 8.08 s\n",
      "Wall time: 20.9 s\n"
     ]
    }
   ],
   "source": [
    "%%time\n",
    "## Load dataset & dataloader.\n",
    "tr_ds = CustomDataset(data_path = HPARAMS.data_path, mode = \"tr\", seed = HPARAMS.seed)\n",
    "vl_ds = CustomDataset(data_path = HPARAMS.data_path, mode = \"vl\", seed = HPARAMS.seed)\n",
    "ts_ds = CustomDataset(data_path = HPARAMS.data_path, mode = \"ts\", seed = HPARAMS.seed)\n",
    "\n",
    "tr_dataloader = torch.utils.data.DataLoader(dataset = tr_ds, \n",
    "                                            batch_size = HPARAMS.global_batch_size,\n",
    "                                            shuffle = True)\n",
    "\n",
    "vl_dataloader = torch.utils.data.DataLoader(dataset = vl_ds, \n",
    "                                            batch_size = HPARAMS.global_batch_size,\n",
    "                                            shuffle = False)\n",
    "\n",
    "ts_dataloader = torch.utils.data.DataLoader(dataset = ts_ds, \n",
    "                                            batch_size = HPARAMS.global_batch_size,\n",
    "                                            shuffle = False)"
   ]
  },
  {
   "cell_type": "code",
   "execution_count": 14,
   "metadata": {
    "executionInfo": {
     "elapsed": 260,
     "status": "ok",
     "timestamp": 1624414453701,
     "user": {
      "displayName": "Myung-Gyo Oh",
      "photoUrl": "",
      "userId": "01040732127983096879"
     },
     "user_tz": -540
    },
    "id": "aujozlOQ5mcl"
   },
   "outputs": [],
   "source": [
    "# for batch_index, (data, target) in enumerate(tr_dataloader):\n",
    "#     break"
   ]
  },
  {
   "cell_type": "code",
   "execution_count": 15,
   "metadata": {
    "id": "dl1YD_hn5mfY"
   },
   "outputs": [],
   "source": [
    "# len(data), [i.size() for i in data]"
   ]
  },
  {
   "cell_type": "code",
   "execution_count": 16,
   "metadata": {
    "id": "EihUjEo_5miq"
   },
   "outputs": [],
   "source": [
    "# target"
   ]
  },
  {
   "cell_type": "code",
   "execution_count": 17,
   "metadata": {
    "executionInfo": {
     "elapsed": 256,
     "status": "ok",
     "timestamp": 1624414477251,
     "user": {
      "displayName": "Myung-Gyo Oh",
      "photoUrl": "",
      "userId": "01040732127983096879"
     },
     "user_tz": -540
    },
    "id": "Fbv8xW5ppaPm"
   },
   "outputs": [],
   "source": [
    "# for batch_index, (data, target) in enumerate(ts_dataloader):\n",
    "#     break"
   ]
  },
  {
   "cell_type": "code",
   "execution_count": 18,
   "metadata": {
    "id": "isgtQhmApd0L"
   },
   "outputs": [],
   "source": [
    "# len(data), data"
   ]
  },
  {
   "cell_type": "code",
   "execution_count": 19,
   "metadata": {
    "id": "D2aqedMPpaMV"
   },
   "outputs": [],
   "source": [
    "# target ## fully zero"
   ]
  },
  {
   "cell_type": "markdown",
   "metadata": {
    "id": "LRtk4v_u1Obj"
   },
   "source": [
    "# **Modeling**"
   ]
  },
  {
   "cell_type": "code",
   "execution_count": 20,
   "metadata": {
    "executionInfo": {
     "elapsed": 257,
     "status": "ok",
     "timestamp": 1624415520754,
     "user": {
      "displayName": "Myung-Gyo Oh",
      "photoUrl": "",
      "userId": "01040732127983096879"
     },
     "user_tz": -540
    },
    "id": "GNS352wV1OYS"
   },
   "outputs": [],
   "source": [
    "class Summarizer(nn.Module):\n",
    "    def __init__(self):\n",
    "        super(Summarizer, self).__init__()\n",
    "        self.encoder = transformers.BertModel.from_pretrained(\"beomi/KcELECTRA-base\")\n",
    "        self.decoder = nn.TransformerEncoder(\n",
    "            encoder_layer = nn.TransformerEncoderLayer(d_model = 768, nhead = 12),\n",
    "            num_layers = 2)\n",
    "        self.fc = nn.Linear(768, 1)\n",
    "        self.pad_len = 2\n",
    "\n",
    "    @torch.cuda.amp.autocast()\n",
    "    def forward(self, inp, seg, msk):\n",
    "        top_vec = self.encoder(input_ids = inp.long(), \n",
    "                               attention_mask = msk.float(), \n",
    "                               token_type_ids = seg.long()).last_hidden_state\n",
    "        \n",
    "        # word_scores = self.decoder(src = top_vec.transpose(0, 1))\n",
    "        # word_scores = self.fc(top_vec.transpose(0, 1)).squeeze(-1)\n",
    "        word_scores = self.fc(top_vec).squeeze(-1)\n",
    "                \n",
    "        return word_scores\n",
    "        \n",
    "#         sents_vec = top_vec[torch.arange(top_vec.size(0)).unsqueeze(1), cls.long()]\n",
    "#         sents_vec = sents_vec * msk_cls[:, :, None].float() ## (batch, 50, 756)\n",
    "                \n",
    "#         ## Put into transformer encoder after sentence padding.\n",
    "#         sent_scores = self.decoder(\n",
    "#             src = nn.functional.pad(sents_vec, (0, 0, 0, self.pad_len)).transpose(0, 1), \n",
    "#             src_key_padding_mask = nn.functional.pad(msk_cls, (0, self.pad_len)),\n",
    "#         )\n",
    "        \n",
    "#         ## Remove padded parts and do other works.\n",
    "#         sent_scores = self.fc(sent_scores.transpose(0, 1)[:, :-self.pad_len]).squeeze(-1)\n",
    "        \n",
    "#         return sent_scores"
   ]
  },
  {
   "cell_type": "code",
   "execution_count": 21,
   "metadata": {},
   "outputs": [
    {
     "name": "stdout",
     "output_type": "stream",
     "text": [
      "2 gpus available.\n"
     ]
    }
   ],
   "source": [
    "KST = datetime.timezone(datetime.timedelta(hours = 9))\n",
    "model_name = datetime.datetime.now(tz = KST).strftime(\"%Y%m%d-%H%M%S\")\n",
    "HPARAMS.model_name = model_name\n",
    "\n",
    "model = Summarizer()\n",
    "clear_output(wait = True)\n",
    "\n",
    "if torch.cuda.device_count() > 1:\n",
    "    print(f\"{torch.cuda.device_count()} gpus available.\")\n",
    "    model = nn.DataParallel(model)\n",
    "    \n",
    "_ = model.to(HPARAMS.device)"
   ]
  },
  {
   "cell_type": "markdown",
   "metadata": {
    "id": "LFNAAPvd1OKS"
   },
   "source": [
    "# **Arguments for Compile**"
   ]
  },
  {
   "cell_type": "code",
   "execution_count": 22,
   "metadata": {
    "executionInfo": {
     "elapsed": 238,
     "status": "ok",
     "timestamp": 1624415560251,
     "user": {
      "displayName": "Myung-Gyo Oh",
      "photoUrl": "",
      "userId": "01040732127983096879"
     },
     "user_tz": -540
    },
    "id": "VjzrUWQYjVmJ"
   },
   "outputs": [],
   "source": [
    "optimizer = torch_optimizer.RAdam(model.parameters(),\n",
    "                                  lr = HPARAMS.lr,\n",
    "                                  weight_decay = HPARAMS.weight_decay)\n",
    "\n",
    "scheduler = torch.optim.lr_scheduler.OneCycleLR(optimizer = optimizer, \n",
    "                                                pct_start = 0.1, \n",
    "                                                # div_factor = 1e+5, -> default == 25\n",
    "                                                max_lr = HPARAMS.lr,\n",
    "                                                epochs = HPARAMS.epochs, \n",
    "                                                steps_per_epoch = len(tr_dataloader))\n",
    "\n",
    "loss_fn = torch.nn.BCEWithLogitsLoss(reduction = \"none\")\n",
    "# loss_fn = torch.nn.BCELoss(reduction = \"none\")"
   ]
  },
  {
   "cell_type": "code",
   "execution_count": 23,
   "metadata": {},
   "outputs": [],
   "source": [
    "def binary_accuracy(y_true, y_pred, threshold = .5):\n",
    "    y_pred = torch.where(y_pred > threshold, 1, 0)\n",
    "    \n",
    "    ## Only y_true == 1 and y_pred == 1 -> y_true * y_pred == 1\n",
    "    acc = torch.where(y_true == y_pred, 1, 0).float().mean()\n",
    "\n",
    "    return acc\n",
    "\n",
    "\n",
    "def hitrate_by_words(y_true, y_pred, threshold = .5):\n",
    "    y_pred = torch.where(y_pred > threshold, 1., 0.)\n",
    "    \n",
    "    ## Only y_true == 1 and y_pred == 1 -> y_true * y_pred == 1\n",
    "    rate = torch.sum(y_true * y_pred) / torch.sum(y_true)\n",
    "    \n",
    "    return rate\n",
    "\n",
    "\n",
    "def hitrate_by_sents(y_true, y_pred, lng):\n",
    "    # y_pred = torch.sigmoid(y_pred)\n",
    "\n",
    "    result = []\n",
    "    \n",
    "    for i in range(y_pred.size(0)):\n",
    "        foo = y_pred[i][:lng[i].sum()]\n",
    "        bar = [i for i in lng[i].tolist() if i > 0]\n",
    "\n",
    "        scores = np.array([j.mean() for j in torch.split(foo, split_size_or_sections = bar)])\n",
    "        select = np.argsort(scores)[:3] ## or torch.topk\n",
    "        \n",
    "        hitrate = len(set(select).intersection(y_true[i].tolist())) / 3\n",
    "\n",
    "        result.append(hitrate)\n",
    "        \n",
    "    return torch.tensor(np.mean(result)).to(HPARAMS.device)\n",
    "\n",
    "\n",
    "acc_metric_fn = binary_accuracy\n",
    "hit_metric_fn = hitrate_by_sents"
   ]
  },
  {
   "cell_type": "code",
   "execution_count": 24,
   "metadata": {
    "executionInfo": {
     "elapsed": 6,
     "status": "ok",
     "timestamp": 1624415561382,
     "user": {
      "displayName": "Myung-Gyo Oh",
      "photoUrl": "",
      "userId": "01040732127983096879"
     },
     "user_tz": -540
    },
    "id": "8NUptSFVlTcx"
   },
   "outputs": [],
   "source": [
    "# def HitrateByWords(y_true, y_pred):\n",
    "#     \"\"\" \n",
    "#     Returns:\n",
    "#         metric_fn (Callable)\n",
    "#     \"\"\"\n",
    "#     hitrate = np.array([len(list(set(ans).intersection(y_true[i]))) / 3 for i, ans in enumerate(y_pred)])\n",
    "#     score = np.mean(hitrate)\n",
    "#     return score\n",
    "\n",
    "# metric_fn = Hitrate"
   ]
  },
  {
   "cell_type": "markdown",
   "metadata": {},
   "source": [
    "# **Callback**"
   ]
  },
  {
   "cell_type": "markdown",
   "metadata": {},
   "source": [
    "## **Checkpoint Manager**"
   ]
  },
  {
   "cell_type": "code",
   "execution_count": 25,
   "metadata": {},
   "outputs": [],
   "source": [
    "class CheckpointManager():\n",
    "    def __init__(\n",
    "        self,\n",
    "        base_dir = None,\n",
    "        monitor = \"val_loss\",\n",
    "    ):\n",
    "        self.monitor = monitor\n",
    "        if base_dir is None:\n",
    "            self.base_dir = sorted(list(Path(\"assets\").glob(\"*-*\")))[-1].parts[-1]\n",
    "            HPARAMS.model_name = self.base_dir\n",
    "        else:\n",
    "             self.base_dir = base_dir\n",
    "        \n",
    "        self.ckpt_dir     = Path(\"assets\", self.base_dir, \"ckpt\")\n",
    "        self.csv_log_path = Path(\"assets\", self.base_dir, \"log\", \"log.csv\")\n",
    "        self.save_history_path = Path(\"assets\", self.base_dir, \"history.png\")\n",
    "        \n",
    "        ## Make folders and an empty log file.\n",
    "        self.ckpt_dir.mkdir(parents = True, exist_ok = True)\n",
    "        self.csv_log_path.parent.mkdir(parents = True, exist_ok = True)\n",
    "        \n",
    "        self.csv_log = pd.DataFrame(columns = [\"epoch\", \"lr\", \"loss\", \"vl_loss\", \"acc\", \"vl_acc\"])\n",
    "        self.csv_log.to_csv(self.csv_log_path, index = False)\n",
    "        \n",
    "        \n",
    "    def latest_checkpoint(self):\n",
    "        ## Load latest checkpoint if exists. Otherwise, return None.\n",
    "        try:\n",
    "            ckpt = sorted(list(self.ckpt_dir.glob(\"*.pt\")))[-1]\n",
    "            print(f\"Restored checkpoint: {ckpt}\")\n",
    "        except:\n",
    "            ckpt = None\n",
    "            print(f\"Restoring checkpoint failed\")\n",
    "            \n",
    "        return ckpt\n",
    "            \n",
    "        \n",
    "    def load_latest_checkpoint(self, ckpt_path):\n",
    "        return torch.load(ckpt_path)\n",
    "    \n",
    "    \n",
    "    def save_ckpt(self, epoch, model_state_dict, optimizer_state_dict, monitor_value):\n",
    "        ## Make directory.\n",
    "        ckpt_path = self.ckpt_dir / Path(f\"cp-{epoch:03d}-{monitor_value:.4f}.pt\")\n",
    "        \n",
    "        torch.save({\"epoch\": epoch,\n",
    "                    \"model_state_dict\": model_state_dict, \n",
    "                    \"optimizer_state_dict\": optimizer_state_dict,\n",
    "                    self.monitor: monitor_value\n",
    "                   }, ckpt_path)\n",
    "        \n",
    "        ## To save memory.\n",
    "        del model_state_dict, optimizer_state_dict\n",
    "\n",
    "        \n",
    "    def make_clean(self, max_to_keep = 1):\n",
    "        ## Make clean.\n",
    "        ckpt = sorted(list(self.ckpt_dir.glob(\"*.pt*\")))\n",
    "\n",
    "        ## # of data must be bigger then max_to_keep.\n",
    "        if len(ckpt) <= max_to_keep:\n",
    "            print(f\"Nothing to cleaning: {len(ckpt)} checkpoints exist.\")\n",
    "            return\n",
    "\n",
    "        ## Keep.\n",
    "        remove_ckpt_list = ckpt[:-max_to_keep]\n",
    "\n",
    "        ## Calculate memory size before unlink.\n",
    "        free_size = sum([p.stat().st_size for p in remove_ckpt_list])  ## byte\n",
    "        _ = [c.unlink() for c in remove_ckpt_list]\n",
    "\n",
    "        print(f\"Checkpoint folder {self.ckpt_dir} is clean, {free_size / (2 ** 20):.2f}MB free.\")\n",
    "    \n",
    "    \n",
    "    def csv_logger(self, epoch, lr, loss, vl_loss, acc, vl_acc):\n",
    "        ## Save log to csv. lr != step.\n",
    "        self.csv_log = self.csv_log.append({\n",
    "            i:j for i, j in zip(self.csv_log.columns, [epoch, lr, loss, vl_loss, acc, vl_acc])}, \n",
    "            ignore_index = True)\n",
    "        self.csv_log.to_csv(self.csv_log_path, index = False)\n",
    "        \n",
    "        \n",
    "    def plot_history(self, show = True):\n",
    "        plt.figure(figsize = (10, 4), facecolor = \"white\")\n",
    "\n",
    "        plt.subplot(1, 2, 1)\n",
    "        plt.plot(self.csv_log.acc, label = \"acc\")\n",
    "        plt.plot(self.csv_log.vl_acc, label = \"val_acc\")\n",
    "\n",
    "        plt.legend()\n",
    "        plt.grid(True)\n",
    "\n",
    "        plt.subplot(1, 2, 2)\n",
    "        plt.plot(self.csv_log.loss, label = \"loss\")\n",
    "        plt.plot(self.csv_log.vl_loss, label = \"val_loss\")\n",
    "\n",
    "        plt.legend()\n",
    "        plt.grid(True)\n",
    "\n",
    "        plt.tight_layout()\n",
    "        plt.savefig(self.save_history_path)\n",
    "\n",
    "        if show:\n",
    "            plt.show()"
   ]
  },
  {
   "cell_type": "code",
   "execution_count": 26,
   "metadata": {},
   "outputs": [],
   "source": [
    "manager = CheckpointManager(base_dir = HPARAMS.model_name)\n",
    "# manager = CheckpointManager(base_dir = None)"
   ]
  },
  {
   "cell_type": "code",
   "execution_count": 27,
   "metadata": {},
   "outputs": [
    {
     "data": {
      "text/plain": [
       "'20210702-004851'"
      ]
     },
     "execution_count": 27,
     "metadata": {},
     "output_type": "execute_result"
    }
   ],
   "source": [
    "HPARAMS.model_name"
   ]
  },
  {
   "cell_type": "markdown",
   "metadata": {
    "id": "sC1x2OC3jVjj"
   },
   "source": [
    "# **Trainer**"
   ]
  },
  {
   "cell_type": "code",
   "execution_count": 28,
   "metadata": {
    "executionInfo": {
     "elapsed": 255,
     "status": "ok",
     "timestamp": 1624415563288,
     "user": {
      "displayName": "Myung-Gyo Oh",
      "photoUrl": "",
      "userId": "01040732127983096879"
     },
     "user_tz": -540
    },
    "id": "Nv9eZ_lGlMAk"
   },
   "outputs": [],
   "source": [
    "class Trainer():\n",
    "    \"\"\" Trainer\n",
    "        epoch에 대한 학습 및 검증 절차 정의\n",
    "    \n",
    "    Attributes:\n",
    "        model (`model`)\n",
    "        device (str)\n",
    "        loss_fn (Callable)\n",
    "        metric_fn (Callable)\n",
    "        optimizer (`optimizer`)\n",
    "        scheduler (`scheduler`)\n",
    "    \"\"\"\n",
    "\n",
    "    def __init__(\n",
    "        self, \n",
    "        model, \n",
    "        device, \n",
    "        loss_fn, \n",
    "        acc_metric_fn, \n",
    "        hit_metric_fn,\n",
    "        optimizer = None, \n",
    "        scheduler = None,\n",
    "        checkpoint_manager = None,\n",
    "    ):\n",
    "        \"\"\" 초기화\n",
    "        \"\"\"\n",
    "        self.model = model\n",
    "        self.device = device\n",
    "        self.loss_fn = loss_fn\n",
    "        self.acc_metric_fn = acc_metric_fn ## binary accuracy\n",
    "        self.hit_metric_fn = hit_metric_fn ## hitrate\n",
    "        self.optimizer = optimizer\n",
    "        self.scheduler = scheduler\n",
    "        \n",
    "        self.scaler = torch.cuda.amp.GradScaler()\n",
    "        \n",
    "    def train_epoch(self, dataloader, epoch_index):\n",
    "        self.model.train()\n",
    "        \n",
    "        self.tr_total_loss = 0\n",
    "        self.tr_total_acc = 0\n",
    "        self.tr_total_hit = 0\n",
    "\n",
    "        y_true = []\n",
    "        y_pred = []\n",
    "\n",
    "        tqdm_dataloader = tqdm(dataloader, desc = f\"[Epoch {epoch_index + 1:02}] Tr\")\n",
    "        \n",
    "        for batch_index, (data, target) in enumerate(tqdm_dataloader):\n",
    "            self.optimizer.zero_grad()\n",
    "\n",
    "            ## Unpack data.\n",
    "            inp = data[0].to(self.device)\n",
    "            seg = data[1].to(self.device)\n",
    "            msk = data[2].to(self.device)\n",
    "            lng = data[3].to(self.device)\n",
    "\n",
    "            tar = target.float().to(self.device)\n",
    "\n",
    "            with torch.cuda.amp.autocast():\n",
    "                ## Forward.\n",
    "                word_score = self.model(inp, seg, msk)\n",
    "\n",
    "                ## Calculate loss and divide by batch size.\n",
    "                loss = (self.loss_fn(word_score, tar) * msk.float()).sum() / msk.float().sum()\n",
    "\n",
    "            ## Backward.\n",
    "            self.scaler.scale(loss).backward() # loss.backward()\n",
    "            \n",
    "            ## Scaler Step.\n",
    "            self.scaler.step(self.optimizer) # self.optimizer.step()\n",
    "            \n",
    "            scale = self.scaler.get_scale()\n",
    "            self.scaler.update()\n",
    "            \n",
    "            ## Update schedular if scaler is not updated.\n",
    "            \n",
    "            ## A small learning rate should reduce the probability of overflows \n",
    "            ## in the gradients, which could create NaNs. However, if the scale \n",
    "            ## factor is still too high, even a low learning rate might cause it.\n",
    "            if scale == self.scaler.get_scale():\n",
    "                self.scheduler.step()\n",
    "            \n",
    "            ## Prediction.\n",
    "            y_true = tar\n",
    "            y_pred = torch.sigmoid(word_score) * msk.float()\n",
    "            \n",
    "            self.tr_total_loss += loss\n",
    "            self.tr_total_acc  += self.acc_metric_fn(y_true = y_true, y_pred = y_pred)\n",
    "            self.tr_total_hit  += self.hit_metric_fn(y_true = y_true, y_pred = y_pred, lng = lng)\n",
    "            \n",
    "            ## Show progress bar with total loss and accuracy.\n",
    "            tqdm_dataloader.set_postfix({\n",
    "                \"Loss\": f\"{self.tr_total_loss / (batch_index + 1):.4f}\",\n",
    "                \"Acc\" : f\"{self.tr_total_acc  / (batch_index + 1):.4f}\",\n",
    "                \"Hit\" : f\"{self.tr_total_hit  / (batch_index + 1):.4f}\",\n",
    "            })\n",
    "\n",
    "        loss = self.tr_total_loss / (batch_index + 1)\n",
    "        acc  = self.tr_total_acc  / (batch_index + 1)\n",
    "        # hit  = self.tr_total_hit  / (batch_index + 1)\n",
    "        \n",
    "        return loss, acc\n",
    "            \n",
    "        \n",
    "    def validate_epoch(self, dataloader, epoch_index):\n",
    "        self.model.eval()\n",
    "        \n",
    "        self.vl_total_loss = 0\n",
    "        self.vl_total_acc  = 0\n",
    "        self.vl_total_hit = 0\n",
    "\n",
    "        y_true = []\n",
    "        y_pred = []\n",
    "\n",
    "        tqdm_dataloader = tqdm(dataloader, desc = f\"[Epoch {epoch_index + 1:02}] Vl\")\n",
    "\n",
    "        with torch.no_grad():\n",
    "            for batch_index, (data, target) in enumerate(tqdm_dataloader):\n",
    "                ## Unpack data.\n",
    "                inp = data[0].to(self.device)\n",
    "                seg = data[1].to(self.device)\n",
    "                msk = data[2].to(self.device)\n",
    "                lng = data[3].to(self.device)\n",
    "\n",
    "                tar = target.float().to(self.device)\n",
    "\n",
    "                ## Evaluate.\n",
    "                word_score = self.model(inp, seg, msk)\n",
    "\n",
    "                ## Calculate loss and divide by batch size.\n",
    "                loss = (self.loss_fn(word_score, tar) * msk.float()).sum() / msk.float().sum()\n",
    "\n",
    "                ## Prediction.\n",
    "                y_true = tar\n",
    "                y_pred = torch.sigmoid(word_score) * msk.float()\n",
    "\n",
    "                self.vl_total_loss += loss\n",
    "                self.vl_total_acc  += self.acc_metric_fn(y_true = y_true, y_pred = y_pred)\n",
    "                self.vl_total_hit  += self.hit_metric_fn(y_true = y_true, y_pred = y_pred, lng = lng)\n",
    "\n",
    "                ## Show progress bar with total loss and accuracy.\n",
    "                tqdm_dataloader.set_postfix({\n",
    "                    \"Loss\": f\"{self.vl_total_loss / (batch_index + 1):.4f}\",\n",
    "                    \"Acc\" : f\"{self.vl_total_acc  / (batch_index + 1):.4f}\",\n",
    "                    \"Hit\" : f\"{self.vl_total_hit  / (batch_index + 1):.4f}\",\n",
    "                })\n",
    "                \n",
    "        loss = self.vl_total_loss / (batch_index + 1)\n",
    "        acc  = self.vl_total_acc  / (batch_index + 1)\n",
    "        # hit  = self.vl_total_hit  / (batch_index + 1)\n",
    "        \n",
    "        return loss, acc\n",
    "\n",
    "    \n",
    "    def test_epoch(self, dataloader):\n",
    "        self.model.eval()\n",
    "\n",
    "        result = []\n",
    "\n",
    "        tqdm_dataloader = tqdm(dataloader, desc = f\"Ts\")\n",
    "\n",
    "        with torch.no_grad():\n",
    "            for batch_index, (data, _) in enumerate(tqdm_dataloader):\n",
    "                ## Unpack data without dummy label.\n",
    "                inp = data[0].to(self.device)\n",
    "                seg = data[1].to(self.device)\n",
    "                msk = data[2].to(self.device)\n",
    "                lng = data[3].to(self.device)\n",
    "\n",
    "                ## Predict.\n",
    "                word_score = self.model(inp, seg, msk)\n",
    "                \n",
    "                ## Prediction.\n",
    "                y_pred = torch.sigmoid(word_score) * msk.float()\n",
    "                \n",
    "                for i in range(y_pred.size(0)):\n",
    "                    foo = y_pred[i][:lng[i].sum()]\n",
    "                    bar = [i for i in lng[i].tolist() if i > 0]\n",
    "                    \n",
    "                    scores = [j.mean() for j in torch.split(foo, split_size_or_sections = bar)]\n",
    "                    select = np.argsort(scores)[:3] ## or torch.topk\n",
    "                    \n",
    "                    result.append(select)\n",
    "\n",
    "        return result"
   ]
  },
  {
   "cell_type": "code",
   "execution_count": 29,
   "metadata": {
    "executionInfo": {
     "elapsed": 9,
     "status": "ok",
     "timestamp": 1624415564253,
     "user": {
      "displayName": "Myung-Gyo Oh",
      "photoUrl": "",
      "userId": "01040732127983096879"
     },
     "user_tz": -540
    },
    "id": "wL5xVSGrlL-B"
   },
   "outputs": [],
   "source": [
    "trainer = Trainer(model, \n",
    "                  device = HPARAMS.device, \n",
    "                  optimizer = optimizer,\n",
    "                  loss_fn = loss_fn, \n",
    "                  acc_metric_fn = acc_metric_fn,\n",
    "                  hit_metric_fn = hit_metric_fn,\n",
    "                  scheduler = scheduler)"
   ]
  },
  {
   "cell_type": "markdown",
   "metadata": {
    "id": "b8M0Dk0SlL7G"
   },
   "source": [
    "# **Fit**"
   ]
  },
  {
   "cell_type": "code",
   "execution_count": 30,
   "metadata": {},
   "outputs": [
    {
     "name": "stderr",
     "output_type": "stream",
     "text": [
      "[Epoch 01] Tr: 100%|██████████| 241/241 [03:35<00:00,  1.12it/s, Loss=0.6242, Acc=0.8276, Hit=0.3484]\n",
      "[Epoch 01] Vl: 100%|██████████| 61/61 [00:24<00:00,  2.45it/s, Loss=0.5670, Acc=0.8582, Hit=0.4233]\n",
      "[Epoch 02] Tr: 100%|██████████| 241/241 [03:28<00:00,  1.15it/s, Loss=0.5655, Acc=0.8583, Hit=0.4374]\n",
      "[Epoch 02] Vl: 100%|██████████| 61/61 [00:25<00:00,  2.42it/s, Loss=0.5815, Acc=0.8497, Hit=0.3759]\n",
      "[Epoch 03] Tr: 100%|██████████| 241/241 [03:28<00:00,  1.15it/s, Loss=0.5568, Acc=0.8614, Hit=0.4090]\n",
      "[Epoch 03] Vl: 100%|██████████| 61/61 [00:25<00:00,  2.38it/s, Loss=0.5787, Acc=0.8544, Hit=0.3609]\n",
      "[Epoch 04] Tr: 100%|██████████| 241/241 [03:29<00:00,  1.15it/s, Loss=0.5494, Acc=0.8643, Hit=0.4100]\n",
      "[Epoch 04] Vl: 100%|██████████| 61/61 [00:25<00:00,  2.37it/s, Loss=0.5438, Acc=0.8664, Hit=0.3285]\n",
      "[Epoch 05] Tr: 100%|██████████| 241/241 [03:31<00:00,  1.14it/s, Loss=0.5379, Acc=0.8682, Hit=0.4087]\n",
      "[Epoch 05] Vl: 100%|██████████| 61/61 [00:25<00:00,  2.39it/s, Loss=0.5362, Acc=0.8699, Hit=0.3545]\n",
      "[Epoch 06] Tr: 100%|██████████| 241/241 [03:32<00:00,  1.14it/s, Loss=0.5248, Acc=0.8729, Hit=0.3975]\n",
      "[Epoch 06] Vl: 100%|██████████| 61/61 [00:26<00:00,  2.29it/s, Loss=0.5305, Acc=0.8725, Hit=0.4864]\n",
      "[Epoch 07] Tr: 100%|██████████| 241/241 [03:31<00:00,  1.14it/s, Loss=0.5075, Acc=0.8785, Hit=0.3852]\n",
      "[Epoch 07] Vl: 100%|██████████| 61/61 [00:26<00:00,  2.30it/s, Loss=0.5314, Acc=0.8749, Hit=0.3571]\n",
      "[Epoch 08] Tr:  29%|██▉       | 71/241 [01:02<02:30,  1.13it/s, Loss=0.4920, Acc=0.8842, Hit=0.3805]\n"
     ]
    },
    {
     "ename": "KeyboardInterrupt",
     "evalue": "",
     "output_type": "error",
     "traceback": [
      "\u001b[0;31m---------------------------------------------------------------------------\u001b[0m",
      "\u001b[0;31mKeyboardInterrupt\u001b[0m                         Traceback (most recent call last)",
      "\u001b[0;32m<ipython-input-30-5d7949a3ec31>\u001b[0m in \u001b[0;36m<module>\u001b[0;34m\u001b[0m\n\u001b[1;32m      2\u001b[0m \u001b[0;34m\u001b[0m\u001b[0m\n\u001b[1;32m      3\u001b[0m \u001b[0;32mfor\u001b[0m \u001b[0mepoch_index\u001b[0m \u001b[0;32min\u001b[0m \u001b[0mrange\u001b[0m\u001b[0;34m(\u001b[0m\u001b[0mHPARAMS\u001b[0m\u001b[0;34m.\u001b[0m\u001b[0mepochs\u001b[0m\u001b[0;34m)\u001b[0m\u001b[0;34m:\u001b[0m\u001b[0;34m\u001b[0m\u001b[0;34m\u001b[0m\u001b[0m\n\u001b[0;32m----> 4\u001b[0;31m     \u001b[0mloss\u001b[0m\u001b[0;34m,\u001b[0m    \u001b[0macc\u001b[0m    \u001b[0;34m=\u001b[0m \u001b[0mtrainer\u001b[0m\u001b[0;34m.\u001b[0m\u001b[0mtrain_epoch\u001b[0m\u001b[0;34m(\u001b[0m\u001b[0mtr_dataloader\u001b[0m\u001b[0;34m,\u001b[0m \u001b[0mepoch_index\u001b[0m \u001b[0;34m=\u001b[0m \u001b[0mepoch_index\u001b[0m\u001b[0;34m)\u001b[0m\u001b[0;34m\u001b[0m\u001b[0;34m\u001b[0m\u001b[0m\n\u001b[0m\u001b[1;32m      5\u001b[0m     \u001b[0mvl_loss\u001b[0m\u001b[0;34m,\u001b[0m \u001b[0mvl_acc\u001b[0m \u001b[0;34m=\u001b[0m \u001b[0mtrainer\u001b[0m\u001b[0;34m.\u001b[0m\u001b[0mvalidate_epoch\u001b[0m\u001b[0;34m(\u001b[0m\u001b[0mvl_dataloader\u001b[0m\u001b[0;34m,\u001b[0m \u001b[0mepoch_index\u001b[0m \u001b[0;34m=\u001b[0m \u001b[0mepoch_index\u001b[0m\u001b[0;34m)\u001b[0m\u001b[0;34m\u001b[0m\u001b[0;34m\u001b[0m\u001b[0m\n\u001b[1;32m      6\u001b[0m \u001b[0;34m\u001b[0m\u001b[0m\n",
      "\u001b[0;32m<ipython-input-28-37bcd797471e>\u001b[0m in \u001b[0;36mtrain_epoch\u001b[0;34m(self, dataloader, epoch_index)\u001b[0m\n\u001b[1;32m     60\u001b[0m             \u001b[0;32mwith\u001b[0m \u001b[0mtorch\u001b[0m\u001b[0;34m.\u001b[0m\u001b[0mcuda\u001b[0m\u001b[0;34m.\u001b[0m\u001b[0mamp\u001b[0m\u001b[0;34m.\u001b[0m\u001b[0mautocast\u001b[0m\u001b[0;34m(\u001b[0m\u001b[0;34m)\u001b[0m\u001b[0;34m:\u001b[0m\u001b[0;34m\u001b[0m\u001b[0;34m\u001b[0m\u001b[0m\n\u001b[1;32m     61\u001b[0m                 \u001b[0;31m## Forward.\u001b[0m\u001b[0;34m\u001b[0m\u001b[0;34m\u001b[0m\u001b[0;34m\u001b[0m\u001b[0m\n\u001b[0;32m---> 62\u001b[0;31m                 \u001b[0mword_score\u001b[0m \u001b[0;34m=\u001b[0m \u001b[0mself\u001b[0m\u001b[0;34m.\u001b[0m\u001b[0mmodel\u001b[0m\u001b[0;34m(\u001b[0m\u001b[0minp\u001b[0m\u001b[0;34m,\u001b[0m \u001b[0mseg\u001b[0m\u001b[0;34m,\u001b[0m \u001b[0mmsk\u001b[0m\u001b[0;34m)\u001b[0m\u001b[0;34m\u001b[0m\u001b[0;34m\u001b[0m\u001b[0m\n\u001b[0m\u001b[1;32m     63\u001b[0m \u001b[0;34m\u001b[0m\u001b[0m\n\u001b[1;32m     64\u001b[0m                 \u001b[0;31m## Calculate loss and divide by batch size.\u001b[0m\u001b[0;34m\u001b[0m\u001b[0;34m\u001b[0m\u001b[0;34m\u001b[0m\u001b[0m\n",
      "\u001b[0;32m~/anaconda3/envs/nipa/lib/python3.6/site-packages/torch/nn/modules/module.py\u001b[0m in \u001b[0;36m_call_impl\u001b[0;34m(self, *input, **kwargs)\u001b[0m\n\u001b[1;32m    725\u001b[0m             \u001b[0mresult\u001b[0m \u001b[0;34m=\u001b[0m \u001b[0mself\u001b[0m\u001b[0;34m.\u001b[0m\u001b[0m_slow_forward\u001b[0m\u001b[0;34m(\u001b[0m\u001b[0;34m*\u001b[0m\u001b[0minput\u001b[0m\u001b[0;34m,\u001b[0m \u001b[0;34m**\u001b[0m\u001b[0mkwargs\u001b[0m\u001b[0;34m)\u001b[0m\u001b[0;34m\u001b[0m\u001b[0;34m\u001b[0m\u001b[0m\n\u001b[1;32m    726\u001b[0m         \u001b[0;32melse\u001b[0m\u001b[0;34m:\u001b[0m\u001b[0;34m\u001b[0m\u001b[0;34m\u001b[0m\u001b[0m\n\u001b[0;32m--> 727\u001b[0;31m             \u001b[0mresult\u001b[0m \u001b[0;34m=\u001b[0m \u001b[0mself\u001b[0m\u001b[0;34m.\u001b[0m\u001b[0mforward\u001b[0m\u001b[0;34m(\u001b[0m\u001b[0;34m*\u001b[0m\u001b[0minput\u001b[0m\u001b[0;34m,\u001b[0m \u001b[0;34m**\u001b[0m\u001b[0mkwargs\u001b[0m\u001b[0;34m)\u001b[0m\u001b[0;34m\u001b[0m\u001b[0;34m\u001b[0m\u001b[0m\n\u001b[0m\u001b[1;32m    728\u001b[0m         for hook in itertools.chain(\n\u001b[1;32m    729\u001b[0m                 \u001b[0m_global_forward_hooks\u001b[0m\u001b[0;34m.\u001b[0m\u001b[0mvalues\u001b[0m\u001b[0;34m(\u001b[0m\u001b[0;34m)\u001b[0m\u001b[0;34m,\u001b[0m\u001b[0;34m\u001b[0m\u001b[0;34m\u001b[0m\u001b[0m\n",
      "\u001b[0;32m~/anaconda3/envs/nipa/lib/python3.6/site-packages/torch/nn/parallel/data_parallel.py\u001b[0m in \u001b[0;36mforward\u001b[0;34m(self, *inputs, **kwargs)\u001b[0m\n\u001b[1;32m    159\u001b[0m             \u001b[0;32mreturn\u001b[0m \u001b[0mself\u001b[0m\u001b[0;34m.\u001b[0m\u001b[0mmodule\u001b[0m\u001b[0;34m(\u001b[0m\u001b[0;34m*\u001b[0m\u001b[0minputs\u001b[0m\u001b[0;34m[\u001b[0m\u001b[0;36m0\u001b[0m\u001b[0;34m]\u001b[0m\u001b[0;34m,\u001b[0m \u001b[0;34m**\u001b[0m\u001b[0mkwargs\u001b[0m\u001b[0;34m[\u001b[0m\u001b[0;36m0\u001b[0m\u001b[0;34m]\u001b[0m\u001b[0;34m)\u001b[0m\u001b[0;34m\u001b[0m\u001b[0;34m\u001b[0m\u001b[0m\n\u001b[1;32m    160\u001b[0m         \u001b[0mreplicas\u001b[0m \u001b[0;34m=\u001b[0m \u001b[0mself\u001b[0m\u001b[0;34m.\u001b[0m\u001b[0mreplicate\u001b[0m\u001b[0;34m(\u001b[0m\u001b[0mself\u001b[0m\u001b[0;34m.\u001b[0m\u001b[0mmodule\u001b[0m\u001b[0;34m,\u001b[0m \u001b[0mself\u001b[0m\u001b[0;34m.\u001b[0m\u001b[0mdevice_ids\u001b[0m\u001b[0;34m[\u001b[0m\u001b[0;34m:\u001b[0m\u001b[0mlen\u001b[0m\u001b[0;34m(\u001b[0m\u001b[0minputs\u001b[0m\u001b[0;34m)\u001b[0m\u001b[0;34m]\u001b[0m\u001b[0;34m)\u001b[0m\u001b[0;34m\u001b[0m\u001b[0;34m\u001b[0m\u001b[0m\n\u001b[0;32m--> 161\u001b[0;31m         \u001b[0moutputs\u001b[0m \u001b[0;34m=\u001b[0m \u001b[0mself\u001b[0m\u001b[0;34m.\u001b[0m\u001b[0mparallel_apply\u001b[0m\u001b[0;34m(\u001b[0m\u001b[0mreplicas\u001b[0m\u001b[0;34m,\u001b[0m \u001b[0minputs\u001b[0m\u001b[0;34m,\u001b[0m \u001b[0mkwargs\u001b[0m\u001b[0;34m)\u001b[0m\u001b[0;34m\u001b[0m\u001b[0;34m\u001b[0m\u001b[0m\n\u001b[0m\u001b[1;32m    162\u001b[0m         \u001b[0;32mreturn\u001b[0m \u001b[0mself\u001b[0m\u001b[0;34m.\u001b[0m\u001b[0mgather\u001b[0m\u001b[0;34m(\u001b[0m\u001b[0moutputs\u001b[0m\u001b[0;34m,\u001b[0m \u001b[0mself\u001b[0m\u001b[0;34m.\u001b[0m\u001b[0moutput_device\u001b[0m\u001b[0;34m)\u001b[0m\u001b[0;34m\u001b[0m\u001b[0;34m\u001b[0m\u001b[0m\n\u001b[1;32m    163\u001b[0m \u001b[0;34m\u001b[0m\u001b[0m\n",
      "\u001b[0;32m~/anaconda3/envs/nipa/lib/python3.6/site-packages/torch/nn/parallel/data_parallel.py\u001b[0m in \u001b[0;36mparallel_apply\u001b[0;34m(self, replicas, inputs, kwargs)\u001b[0m\n\u001b[1;32m    169\u001b[0m \u001b[0;34m\u001b[0m\u001b[0m\n\u001b[1;32m    170\u001b[0m     \u001b[0;32mdef\u001b[0m \u001b[0mparallel_apply\u001b[0m\u001b[0;34m(\u001b[0m\u001b[0mself\u001b[0m\u001b[0;34m,\u001b[0m \u001b[0mreplicas\u001b[0m\u001b[0;34m,\u001b[0m \u001b[0minputs\u001b[0m\u001b[0;34m,\u001b[0m \u001b[0mkwargs\u001b[0m\u001b[0;34m)\u001b[0m\u001b[0;34m:\u001b[0m\u001b[0;34m\u001b[0m\u001b[0;34m\u001b[0m\u001b[0m\n\u001b[0;32m--> 171\u001b[0;31m         \u001b[0;32mreturn\u001b[0m \u001b[0mparallel_apply\u001b[0m\u001b[0;34m(\u001b[0m\u001b[0mreplicas\u001b[0m\u001b[0;34m,\u001b[0m \u001b[0minputs\u001b[0m\u001b[0;34m,\u001b[0m \u001b[0mkwargs\u001b[0m\u001b[0;34m,\u001b[0m \u001b[0mself\u001b[0m\u001b[0;34m.\u001b[0m\u001b[0mdevice_ids\u001b[0m\u001b[0;34m[\u001b[0m\u001b[0;34m:\u001b[0m\u001b[0mlen\u001b[0m\u001b[0;34m(\u001b[0m\u001b[0mreplicas\u001b[0m\u001b[0;34m)\u001b[0m\u001b[0;34m]\u001b[0m\u001b[0;34m)\u001b[0m\u001b[0;34m\u001b[0m\u001b[0;34m\u001b[0m\u001b[0m\n\u001b[0m\u001b[1;32m    172\u001b[0m \u001b[0;34m\u001b[0m\u001b[0m\n\u001b[1;32m    173\u001b[0m     \u001b[0;32mdef\u001b[0m \u001b[0mgather\u001b[0m\u001b[0;34m(\u001b[0m\u001b[0mself\u001b[0m\u001b[0;34m,\u001b[0m \u001b[0moutputs\u001b[0m\u001b[0;34m,\u001b[0m \u001b[0moutput_device\u001b[0m\u001b[0;34m)\u001b[0m\u001b[0;34m:\u001b[0m\u001b[0;34m\u001b[0m\u001b[0;34m\u001b[0m\u001b[0m\n",
      "\u001b[0;32m~/anaconda3/envs/nipa/lib/python3.6/site-packages/torch/nn/parallel/parallel_apply.py\u001b[0m in \u001b[0;36mparallel_apply\u001b[0;34m(modules, inputs, kwargs_tup, devices)\u001b[0m\n\u001b[1;32m     76\u001b[0m             \u001b[0mthread\u001b[0m\u001b[0;34m.\u001b[0m\u001b[0mstart\u001b[0m\u001b[0;34m(\u001b[0m\u001b[0;34m)\u001b[0m\u001b[0;34m\u001b[0m\u001b[0;34m\u001b[0m\u001b[0m\n\u001b[1;32m     77\u001b[0m         \u001b[0;32mfor\u001b[0m \u001b[0mthread\u001b[0m \u001b[0;32min\u001b[0m \u001b[0mthreads\u001b[0m\u001b[0;34m:\u001b[0m\u001b[0;34m\u001b[0m\u001b[0;34m\u001b[0m\u001b[0m\n\u001b[0;32m---> 78\u001b[0;31m             \u001b[0mthread\u001b[0m\u001b[0;34m.\u001b[0m\u001b[0mjoin\u001b[0m\u001b[0;34m(\u001b[0m\u001b[0;34m)\u001b[0m\u001b[0;34m\u001b[0m\u001b[0;34m\u001b[0m\u001b[0m\n\u001b[0m\u001b[1;32m     79\u001b[0m     \u001b[0;32melse\u001b[0m\u001b[0;34m:\u001b[0m\u001b[0;34m\u001b[0m\u001b[0;34m\u001b[0m\u001b[0m\n\u001b[1;32m     80\u001b[0m         \u001b[0m_worker\u001b[0m\u001b[0;34m(\u001b[0m\u001b[0;36m0\u001b[0m\u001b[0;34m,\u001b[0m \u001b[0mmodules\u001b[0m\u001b[0;34m[\u001b[0m\u001b[0;36m0\u001b[0m\u001b[0;34m]\u001b[0m\u001b[0;34m,\u001b[0m \u001b[0minputs\u001b[0m\u001b[0;34m[\u001b[0m\u001b[0;36m0\u001b[0m\u001b[0;34m]\u001b[0m\u001b[0;34m,\u001b[0m \u001b[0mkwargs_tup\u001b[0m\u001b[0;34m[\u001b[0m\u001b[0;36m0\u001b[0m\u001b[0;34m]\u001b[0m\u001b[0;34m,\u001b[0m \u001b[0mdevices\u001b[0m\u001b[0;34m[\u001b[0m\u001b[0;36m0\u001b[0m\u001b[0;34m]\u001b[0m\u001b[0;34m)\u001b[0m\u001b[0;34m\u001b[0m\u001b[0;34m\u001b[0m\u001b[0m\n",
      "\u001b[0;32m~/anaconda3/envs/nipa/lib/python3.6/threading.py\u001b[0m in \u001b[0;36mjoin\u001b[0;34m(self, timeout)\u001b[0m\n\u001b[1;32m   1054\u001b[0m \u001b[0;34m\u001b[0m\u001b[0m\n\u001b[1;32m   1055\u001b[0m         \u001b[0;32mif\u001b[0m \u001b[0mtimeout\u001b[0m \u001b[0;32mis\u001b[0m \u001b[0;32mNone\u001b[0m\u001b[0;34m:\u001b[0m\u001b[0;34m\u001b[0m\u001b[0;34m\u001b[0m\u001b[0m\n\u001b[0;32m-> 1056\u001b[0;31m             \u001b[0mself\u001b[0m\u001b[0;34m.\u001b[0m\u001b[0m_wait_for_tstate_lock\u001b[0m\u001b[0;34m(\u001b[0m\u001b[0;34m)\u001b[0m\u001b[0;34m\u001b[0m\u001b[0;34m\u001b[0m\u001b[0m\n\u001b[0m\u001b[1;32m   1057\u001b[0m         \u001b[0;32melse\u001b[0m\u001b[0;34m:\u001b[0m\u001b[0;34m\u001b[0m\u001b[0;34m\u001b[0m\u001b[0m\n\u001b[1;32m   1058\u001b[0m             \u001b[0;31m# the behavior of a negative timeout isn't documented, but\u001b[0m\u001b[0;34m\u001b[0m\u001b[0;34m\u001b[0m\u001b[0;34m\u001b[0m\u001b[0m\n",
      "\u001b[0;32m~/anaconda3/envs/nipa/lib/python3.6/threading.py\u001b[0m in \u001b[0;36m_wait_for_tstate_lock\u001b[0;34m(self, block, timeout)\u001b[0m\n\u001b[1;32m   1070\u001b[0m         \u001b[0;32mif\u001b[0m \u001b[0mlock\u001b[0m \u001b[0;32mis\u001b[0m \u001b[0;32mNone\u001b[0m\u001b[0;34m:\u001b[0m  \u001b[0;31m# already determined that the C code is done\u001b[0m\u001b[0;34m\u001b[0m\u001b[0;34m\u001b[0m\u001b[0m\n\u001b[1;32m   1071\u001b[0m             \u001b[0;32massert\u001b[0m \u001b[0mself\u001b[0m\u001b[0;34m.\u001b[0m\u001b[0m_is_stopped\u001b[0m\u001b[0;34m\u001b[0m\u001b[0;34m\u001b[0m\u001b[0m\n\u001b[0;32m-> 1072\u001b[0;31m         \u001b[0;32melif\u001b[0m \u001b[0mlock\u001b[0m\u001b[0;34m.\u001b[0m\u001b[0macquire\u001b[0m\u001b[0;34m(\u001b[0m\u001b[0mblock\u001b[0m\u001b[0;34m,\u001b[0m \u001b[0mtimeout\u001b[0m\u001b[0;34m)\u001b[0m\u001b[0;34m:\u001b[0m\u001b[0;34m\u001b[0m\u001b[0;34m\u001b[0m\u001b[0m\n\u001b[0m\u001b[1;32m   1073\u001b[0m             \u001b[0mlock\u001b[0m\u001b[0;34m.\u001b[0m\u001b[0mrelease\u001b[0m\u001b[0;34m(\u001b[0m\u001b[0;34m)\u001b[0m\u001b[0;34m\u001b[0m\u001b[0;34m\u001b[0m\u001b[0m\n\u001b[1;32m   1074\u001b[0m             \u001b[0mself\u001b[0m\u001b[0;34m.\u001b[0m\u001b[0m_stop\u001b[0m\u001b[0;34m(\u001b[0m\u001b[0;34m)\u001b[0m\u001b[0;34m\u001b[0m\u001b[0;34m\u001b[0m\u001b[0m\n",
      "\u001b[0;31mKeyboardInterrupt\u001b[0m: "
     ]
    }
   ],
   "source": [
    "latest_vl_loss = np.inf\n",
    "\n",
    "for epoch_index in range(HPARAMS.epochs):\n",
    "    loss,    acc    = trainer.train_epoch(tr_dataloader, epoch_index = epoch_index)\n",
    "    vl_loss, vl_acc = trainer.validate_epoch(vl_dataloader, epoch_index = epoch_index)\n",
    "    \n",
    "    ## Save checkpoint if validation loss improved.\n",
    "    if vl_loss < latest_vl_loss:\n",
    "        manager.save_ckpt(epoch = epoch_index + 1, \n",
    "                          model_state_dict = model.state_dict(), \n",
    "                          optimizer_state_dict = optimizer.state_dict(), \n",
    "                          monitor_value = vl_loss)\n",
    "\n",
    "        latest_vl_loss = vl_loss\n",
    "        \n",
    "    ## Save full log to csv.\n",
    "    manager.csv_logger(epoch   = epoch_index + 1, \n",
    "                       lr      = scheduler.get_last_lr()[0], \n",
    "                       loss    = loss.item(), \n",
    "                       vl_loss = vl_loss.item(), \n",
    "                       acc     = acc, \n",
    "                       vl_acc  = vl_acc)"
   ]
  },
  {
   "cell_type": "code",
   "execution_count": 31,
   "metadata": {},
   "outputs": [
    {
     "data": {
      "image/png": "[encoded data removed]",
      "text/plain": [
       "<Figure size 720x288 with 2 Axes>"
      ]
     },
     "metadata": {},
     "output_type": "display_data"
    }
   ],
   "source": [
    "manager.plot_history()"
   ]
  },
  {
   "cell_type": "markdown",
   "metadata": {
    "id": "nEvyoEGrvxXI"
   },
   "source": [
    "# **Inference**"
   ]
  },
  {
   "cell_type": "code",
   "execution_count": 32,
   "metadata": {},
   "outputs": [
    {
     "name": "stdout",
     "output_type": "stream",
     "text": [
      "Restored checkpoint: assets/20210702-004851/ckpt/cp-006-0.5305.pt\n",
      "Checkpoint folder assets/20210702-004851/ckpt is clean, 4655.26MB free.\n"
     ]
    }
   ],
   "source": [
    "latest_ckpt_path = manager.latest_checkpoint()\n",
    "if latest_ckpt_path is not None:\n",
    "    manager.make_clean()"
   ]
  },
  {
   "cell_type": "code",
   "execution_count": 33,
   "metadata": {},
   "outputs": [
    {
     "data": {
      "text/plain": [
       "<All keys matched successfully>"
      ]
     },
     "execution_count": 33,
     "metadata": {},
     "output_type": "execute_result"
    }
   ],
   "source": [
    "latest_ckpt = manager.load_latest_checkpoint(latest_ckpt_path)\n",
    "\n",
    "model.load_state_dict(latest_ckpt[\"model_state_dict\"])"
   ]
  },
  {
   "cell_type": "code",
   "execution_count": 34,
   "metadata": {
    "id": "IFMzTCikvxMy"
   },
   "outputs": [
    {
     "name": "stderr",
     "output_type": "stream",
     "text": [
      "Ts: 100%|██████████| 38/38 [00:13<00:00,  2.75it/s]\n"
     ]
    },
    {
     "data": {
      "text/plain": [
       "(3004, 3)"
      ]
     },
     "execution_count": 34,
     "metadata": {},
     "output_type": "execute_result"
    }
   ],
   "source": [
    "y_pred = trainer.test_epoch(ts_dataloader)\n",
    "\n",
    "y_pred = np.array(y_pred)\n",
    "y_pred.shape"
   ]
  },
  {
   "cell_type": "code",
   "execution_count": 35,
   "metadata": {
    "id": "XaR_oLilvxKB"
   },
   "outputs": [
    {
     "data": {
      "text/plain": [
       "array([[0, 2, 3],\n",
       "       [1, 3, 2],\n",
       "       [1, 0, 2]])"
      ]
     },
     "execution_count": 35,
     "metadata": {},
     "output_type": "execute_result"
    }
   ],
   "source": [
    "y_pred[:3]"
   ]
  },
  {
   "cell_type": "markdown",
   "metadata": {
    "id": "T05-cUp6nwww"
   },
   "source": [
    "# **Submission**"
   ]
  },
  {
   "cell_type": "code",
   "execution_count": 36,
   "metadata": {},
   "outputs": [
    {
     "data": {
      "text/html": [
       "<div>\n",
       "<style scoped>\n",
       "    .dataframe tbody tr th:only-of-type {\n",
       "        vertical-align: middle;\n",
       "    }\n",
       "\n",
       "    .dataframe tbody tr th {\n",
       "        vertical-align: top;\n",
       "    }\n",
       "\n",
       "    .dataframe thead th {\n",
       "        text-align: right;\n",
       "    }\n",
       "</style>\n",
       "<table border=\"1\" class=\"dataframe\">\n",
       "  <thead>\n",
       "    <tr style=\"text-align: right;\">\n",
       "      <th></th>\n",
       "      <th>ID</th>\n",
       "      <th>summary_index1</th>\n",
       "      <th>summary_index2</th>\n",
       "      <th>summary_index3</th>\n",
       "    </tr>\n",
       "  </thead>\n",
       "  <tbody>\n",
       "    <tr>\n",
       "      <th>0</th>\n",
       "      <td>79095</td>\n",
       "      <td>0</td>\n",
       "      <td>1</td>\n",
       "      <td>2</td>\n",
       "    </tr>\n",
       "    <tr>\n",
       "      <th>1</th>\n",
       "      <td>204506</td>\n",
       "      <td>0</td>\n",
       "      <td>1</td>\n",
       "      <td>2</td>\n",
       "    </tr>\n",
       "    <tr>\n",
       "      <th>2</th>\n",
       "      <td>142079</td>\n",
       "      <td>0</td>\n",
       "      <td>1</td>\n",
       "      <td>2</td>\n",
       "    </tr>\n",
       "    <tr>\n",
       "      <th>3</th>\n",
       "      <td>110816</td>\n",
       "      <td>0</td>\n",
       "      <td>1</td>\n",
       "      <td>2</td>\n",
       "    </tr>\n",
       "    <tr>\n",
       "      <th>4</th>\n",
       "      <td>207249</td>\n",
       "      <td>0</td>\n",
       "      <td>1</td>\n",
       "      <td>2</td>\n",
       "    </tr>\n",
       "    <tr>\n",
       "      <th>...</th>\n",
       "      <td>...</td>\n",
       "      <td>...</td>\n",
       "      <td>...</td>\n",
       "      <td>...</td>\n",
       "    </tr>\n",
       "    <tr>\n",
       "      <th>2999</th>\n",
       "      <td>211427</td>\n",
       "      <td>0</td>\n",
       "      <td>1</td>\n",
       "      <td>2</td>\n",
       "    </tr>\n",
       "    <tr>\n",
       "      <th>3000</th>\n",
       "      <td>113879</td>\n",
       "      <td>0</td>\n",
       "      <td>1</td>\n",
       "      <td>2</td>\n",
       "    </tr>\n",
       "    <tr>\n",
       "      <th>3001</th>\n",
       "      <td>207079</td>\n",
       "      <td>0</td>\n",
       "      <td>1</td>\n",
       "      <td>2</td>\n",
       "    </tr>\n",
       "    <tr>\n",
       "      <th>3002</th>\n",
       "      <td>161740</td>\n",
       "      <td>0</td>\n",
       "      <td>1</td>\n",
       "      <td>2</td>\n",
       "    </tr>\n",
       "    <tr>\n",
       "      <th>3003</th>\n",
       "      <td>79763</td>\n",
       "      <td>0</td>\n",
       "      <td>1</td>\n",
       "      <td>2</td>\n",
       "    </tr>\n",
       "  </tbody>\n",
       "</table>\n",
       "<p>3004 rows × 4 columns</p>\n",
       "</div>"
      ],
      "text/plain": [
       "          ID  summary_index1  summary_index2  summary_index3\n",
       "0      79095               0               1               2\n",
       "1     204506               0               1               2\n",
       "2     142079               0               1               2\n",
       "3     110816               0               1               2\n",
       "4     207249               0               1               2\n",
       "...      ...             ...             ...             ...\n",
       "2999  211427               0               1               2\n",
       "3000  113879               0               1               2\n",
       "3001  207079               0               1               2\n",
       "3002  161740               0               1               2\n",
       "3003   79763               0               1               2\n",
       "\n",
       "[3004 rows x 4 columns]"
      ]
     },
     "execution_count": 36,
     "metadata": {},
     "output_type": "execute_result"
    }
   ],
   "source": [
    "sample_submission_path = HPARAMS.data_path / Path(\"sample_submission.json\")\n",
    "sample_submission = pd.read_json(sample_submission_path, orient = \"records\", encoding = \"utf-8-sig\")\n",
    "\n",
    "submission_df = sample_submission.copy()\n",
    "submission_df"
   ]
  },
  {
   "cell_type": "code",
   "execution_count": 37,
   "metadata": {},
   "outputs": [
    {
     "data": {
      "text/html": [
       "<div>\n",
       "<style scoped>\n",
       "    .dataframe tbody tr th:only-of-type {\n",
       "        vertical-align: middle;\n",
       "    }\n",
       "\n",
       "    .dataframe tbody tr th {\n",
       "        vertical-align: top;\n",
       "    }\n",
       "\n",
       "    .dataframe thead th {\n",
       "        text-align: right;\n",
       "    }\n",
       "</style>\n",
       "<table border=\"1\" class=\"dataframe\">\n",
       "  <thead>\n",
       "    <tr style=\"text-align: right;\">\n",
       "      <th></th>\n",
       "      <th>ID</th>\n",
       "      <th>summary_index1</th>\n",
       "      <th>summary_index2</th>\n",
       "      <th>summary_index3</th>\n",
       "    </tr>\n",
       "  </thead>\n",
       "  <tbody>\n",
       "    <tr>\n",
       "      <th>0</th>\n",
       "      <td>79095</td>\n",
       "      <td>0</td>\n",
       "      <td>2</td>\n",
       "      <td>3</td>\n",
       "    </tr>\n",
       "    <tr>\n",
       "      <th>1</th>\n",
       "      <td>204506</td>\n",
       "      <td>1</td>\n",
       "      <td>3</td>\n",
       "      <td>2</td>\n",
       "    </tr>\n",
       "    <tr>\n",
       "      <th>2</th>\n",
       "      <td>142079</td>\n",
       "      <td>1</td>\n",
       "      <td>0</td>\n",
       "      <td>2</td>\n",
       "    </tr>\n",
       "    <tr>\n",
       "      <th>3</th>\n",
       "      <td>110816</td>\n",
       "      <td>2</td>\n",
       "      <td>1</td>\n",
       "      <td>4</td>\n",
       "    </tr>\n",
       "    <tr>\n",
       "      <th>4</th>\n",
       "      <td>207249</td>\n",
       "      <td>0</td>\n",
       "      <td>2</td>\n",
       "      <td>3</td>\n",
       "    </tr>\n",
       "    <tr>\n",
       "      <th>...</th>\n",
       "      <td>...</td>\n",
       "      <td>...</td>\n",
       "      <td>...</td>\n",
       "      <td>...</td>\n",
       "    </tr>\n",
       "    <tr>\n",
       "      <th>2999</th>\n",
       "      <td>211427</td>\n",
       "      <td>2</td>\n",
       "      <td>1</td>\n",
       "      <td>8</td>\n",
       "    </tr>\n",
       "    <tr>\n",
       "      <th>3000</th>\n",
       "      <td>113879</td>\n",
       "      <td>1</td>\n",
       "      <td>3</td>\n",
       "      <td>0</td>\n",
       "    </tr>\n",
       "    <tr>\n",
       "      <th>3001</th>\n",
       "      <td>207079</td>\n",
       "      <td>0</td>\n",
       "      <td>3</td>\n",
       "      <td>1</td>\n",
       "    </tr>\n",
       "    <tr>\n",
       "      <th>3002</th>\n",
       "      <td>161740</td>\n",
       "      <td>2</td>\n",
       "      <td>1</td>\n",
       "      <td>4</td>\n",
       "    </tr>\n",
       "    <tr>\n",
       "      <th>3003</th>\n",
       "      <td>79763</td>\n",
       "      <td>1</td>\n",
       "      <td>2</td>\n",
       "      <td>0</td>\n",
       "    </tr>\n",
       "  </tbody>\n",
       "</table>\n",
       "<p>3004 rows × 4 columns</p>\n",
       "</div>"
      ],
      "text/plain": [
       "          ID  summary_index1  summary_index2  summary_index3\n",
       "0      79095               0               2               3\n",
       "1     204506               1               3               2\n",
       "2     142079               1               0               2\n",
       "3     110816               2               1               4\n",
       "4     207249               0               2               3\n",
       "...      ...             ...             ...             ...\n",
       "2999  211427               2               1               8\n",
       "3000  113879               1               3               0\n",
       "3001  207079               0               3               1\n",
       "3002  161740               2               1               4\n",
       "3003   79763               1               2               0\n",
       "\n",
       "[3004 rows x 4 columns]"
      ]
     },
     "execution_count": 37,
     "metadata": {},
     "output_type": "execute_result"
    }
   ],
   "source": [
    "submission_df.iloc[:, 1:] = y_pred\n",
    "submission_df"
   ]
  },
  {
   "cell_type": "code",
   "execution_count": 38,
   "metadata": {
    "scrolled": true
   },
   "outputs": [
    {
     "name": "stderr",
     "output_type": "stream",
     "text": [
      "100%|██████████| 3004/3004 [00:00<00:00, 51549.13it/s]\n"
     ]
    }
   ],
   "source": [
    "submission_json = []\n",
    "for value in tqdm(submission_df.values):\n",
    "    answer = OrderedDict({\"ID\": str(value[0])})\n",
    "    answer.update({f\"summary_index{i+1}\": str(v) for i, v in enumerate(value[1:])})\n",
    "    \n",
    "    submission_json.append(answer)"
   ]
  },
  {
   "cell_type": "code",
   "execution_count": 39,
   "metadata": {
    "scrolled": true
   },
   "outputs": [
    {
     "data": {
      "text/plain": [
       "[OrderedDict([('ID', '79095'),\n",
       "              ('summary_index1', '0'),\n",
       "              ('summary_index2', '2'),\n",
       "              ('summary_index3', '3')]),\n",
       " OrderedDict([('ID', '204506'),\n",
       "              ('summary_index1', '1'),\n",
       "              ('summary_index2', '3'),\n",
       "              ('summary_index3', '2')]),\n",
       " OrderedDict([('ID', '142079'),\n",
       "              ('summary_index1', '1'),\n",
       "              ('summary_index2', '0'),\n",
       "              ('summary_index3', '2')])]"
      ]
     },
     "execution_count": 39,
     "metadata": {},
     "output_type": "execute_result"
    }
   ],
   "source": [
    "submission_json[:3]"
   ]
  },
  {
   "cell_type": "code",
   "execution_count": 40,
   "metadata": {
    "colab": {
     "base_uri": "https://localhost:8080/"
    },
    "executionInfo": {
     "elapsed": 225,
     "status": "ok",
     "timestamp": 1624265692328,
     "user": {
      "displayName": "Myung-Gyo Oh",
      "photoUrl": "",
      "userId": "01040732127983096879"
     },
     "user_tz": -540
    },
    "id": "DWIv-ASgqQk7",
    "outputId": "190353e9-aae2-4945-97ac-c8385a5fdc17"
   },
   "outputs": [
    {
     "name": "stdout",
     "output_type": "stream",
     "text": [
      "Json saved /home/ubuntu/tmp_git/nipa-2021/assets/20210702-004851/submission-20210702-004851.json\n"
     ]
    }
   ],
   "source": [
    "save_path = HPARAMS.cwd / Path(\"assets\", HPARAMS.model_name, f\"submission-{HPARAMS.model_name}.json\")\n",
    "save_path.parent.mkdir(parents = True, exist_ok = True)\n",
    "\n",
    "try:\n",
    "    with open(save_path, \"w\") as f:\n",
    "        json.dump(submission_json, f, indent = 4, sort_keys = False)\n",
    "    message = f\"Json saved {save_path}\"\n",
    "except Exception as e:\n",
    "    message = f\"Failed to save: {e}\"\n",
    "\n",
    "print(message)"
   ]
  },
  {
   "cell_type": "code",
   "execution_count": 41,
   "metadata": {
    "colab": {
     "base_uri": "https://localhost:8080/",
     "height": 17
    },
    "executionInfo": {
     "elapsed": 238,
     "status": "ok",
     "timestamp": 1624265697295,
     "user": {
      "displayName": "Myung-Gyo Oh",
      "photoUrl": "",
      "userId": "01040732127983096879"
     },
     "user_tz": -540
    },
    "id": "TGe9m2hftRf5",
    "outputId": "eb4b7f01-f09e-4ad1-86c1-0797be7c1366"
   },
   "outputs": [],
   "source": [
    "# try:\n",
    "#     from google.colab import files\n",
    "#     files.download(save_path)\n",
    "# except:\n",
    "#     pass"
   ]
  },
  {
   "cell_type": "code",
   "execution_count": null,
   "metadata": {
    "id": "rGjOfUTae6Av"
   },
   "outputs": [],
   "source": []
  }
 ],
 "metadata": {
  "accelerator": "GPU",
  "colab": {
   "authorship_tag": "ABX9TyMpKbLr1EgyXn85hfM/rlIi",
   "collapsed_sections": [
    "runshbFzeKai"
   ],
   "name": "BERTSum.ipynb",
   "provenance": []
  },
  "kernelspec": {
   "display_name": "nipa",
   "language": "python",
   "name": "nipa"
  },
  "language_info": {
   "codemirror_mode": {
    "name": "ipython",
    "version": 3
   },
   "file_extension": ".py",
   "mimetype": "text/x-python",
   "name": "python",
   "nbconvert_exporter": "python",
   "pygments_lexer": "ipython3",
   "version": "3.6.10"
  },
  "widgets": {
   "application/vnd.jupyter.widget-state+json": {
    "0132a0b3bf6c4ad6bd272c479be91c7d": {
     "model_module": "@jupyter-widgets/base",
     "model_name": "LayoutModel",
     "state": {
      "_model_module": "@jupyter-widgets/base",
      "_model_module_version": "1.2.0",
      "_model_name": "LayoutModel",
      "_view_count": null,
      "_view_module": "@jupyter-widgets/base",
      "_view_module_version": "1.2.0",
      "_view_name": "LayoutView",
      "align_content": null,
      "align_items": null,
      "align_self": null,
      "border": null,
      "bottom": null,
      "display": null,
      "flex": null,
      "flex_flow": null,
      "grid_area": null,
      "grid_auto_columns": null,
      "grid_auto_flow": null,
      "grid_auto_rows": null,
      "grid_column": null,
      "grid_gap": null,
      "grid_row": null,
      "grid_template_areas": null,
      "grid_template_columns": null,
      "grid_template_rows": null,
      "height": null,
      "justify_content": null,
      "justify_items": null,
      "left": null,
      "margin": null,
      "max_height": null,
      "max_width": null,
      "min_height": null,
      "min_width": null,
      "object_fit": null,
      "object_position": null,
      "order": null,
      "overflow": null,
      "overflow_x": null,
      "overflow_y": null,
      "padding": null,
      "right": null,
      "top": null,
      "visibility": null,
      "width": null
     }
    },
    "014c61f9264e4bfab94d7dfd6c988f19": {
     "model_module": "@jupyter-widgets/controls",
     "model_name": "FloatProgressModel",
     "state": {
      "_dom_classes": [],
      "_model_module": "@jupyter-widgets/controls",
      "_model_module_version": "1.5.0",
      "_model_name": "FloatProgressModel",
      "_view_count": null,
      "_view_module": "@jupyter-widgets/controls",
      "_view_module_version": "1.5.0",
      "_view_name": "ProgressView",
      "bar_style": "success",
      "description": "Downloading: 100%",
      "description_tooltip": null,
      "layout": "IPY_MODEL_e003d0eb1af949969ac9144bba58cdc7",
      "max": 124,
      "min": 0,
      "orientation": "horizontal",
      "style": "IPY_MODEL_8ece8a15312744c9a581cf60aa88451b",
      "value": 124
     }
    },
    "1323c50898cf4dd0b15c2b4031f2d59f": {
     "model_module": "@jupyter-widgets/base",
     "model_name": "LayoutModel",
     "state": {
      "_model_module": "@jupyter-widgets/base",
      "_model_module_version": "1.2.0",
      "_model_name": "LayoutModel",
      "_view_count": null,
      "_view_module": "@jupyter-widgets/base",
      "_view_module_version": "1.2.0",
      "_view_name": "LayoutView",
      "align_content": null,
      "align_items": null,
      "align_self": null,
      "border": null,
      "bottom": null,
      "display": null,
      "flex": null,
      "flex_flow": null,
      "grid_area": null,
      "grid_auto_columns": null,
      "grid_auto_flow": null,
      "grid_auto_rows": null,
      "grid_column": null,
      "grid_gap": null,
      "grid_row": null,
      "grid_template_areas": null,
      "grid_template_columns": null,
      "grid_template_rows": null,
      "height": null,
      "justify_content": null,
      "justify_items": null,
      "left": null,
      "margin": null,
      "max_height": null,
      "max_width": null,
      "min_height": null,
      "min_width": null,
      "object_fit": null,
      "object_position": null,
      "order": null,
      "overflow": null,
      "overflow_x": null,
      "overflow_y": null,
      "padding": null,
      "right": null,
      "top": null,
      "visibility": null,
      "width": null
     }
    },
    "16fd325970b849c99a0ed5fef41154a3": {
     "model_module": "@jupyter-widgets/base",
     "model_name": "LayoutModel",
     "state": {
      "_model_module": "@jupyter-widgets/base",
      "_model_module_version": "1.2.0",
      "_model_name": "LayoutModel",
      "_view_count": null,
      "_view_module": "@jupyter-widgets/base",
      "_view_module_version": "1.2.0",
      "_view_name": "LayoutView",
      "align_content": null,
      "align_items": null,
      "align_self": null,
      "border": null,
      "bottom": null,
      "display": null,
      "flex": null,
      "flex_flow": null,
      "grid_area": null,
      "grid_auto_columns": null,
      "grid_auto_flow": null,
      "grid_auto_rows": null,
      "grid_column": null,
      "grid_gap": null,
      "grid_row": null,
      "grid_template_areas": null,
      "grid_template_columns": null,
      "grid_template_rows": null,
      "height": null,
      "justify_content": null,
      "justify_items": null,
      "left": null,
      "margin": null,
      "max_height": null,
      "max_width": null,
      "min_height": null,
      "min_width": null,
      "object_fit": null,
      "object_position": null,
      "order": null,
      "overflow": null,
      "overflow_x": null,
      "overflow_y": null,
      "padding": null,
      "right": null,
      "top": null,
      "visibility": null,
      "width": null
     }
    },
    "1809371e600e4cc0963a5e0e01e8c349": {
     "model_module": "@jupyter-widgets/controls",
     "model_name": "ProgressStyleModel",
     "state": {
      "_model_module": "@jupyter-widgets/controls",
      "_model_module_version": "1.5.0",
      "_model_name": "ProgressStyleModel",
      "_view_count": null,
      "_view_module": "@jupyter-widgets/base",
      "_view_module_version": "1.2.0",
      "_view_name": "StyleView",
      "bar_color": null,
      "description_width": "initial"
     }
    },
    "21099975b8534ca9a4fdd0c7ea9a3992": {
     "model_module": "@jupyter-widgets/controls",
     "model_name": "DescriptionStyleModel",
     "state": {
      "_model_module": "@jupyter-widgets/controls",
      "_model_module_version": "1.5.0",
      "_model_name": "DescriptionStyleModel",
      "_view_count": null,
      "_view_module": "@jupyter-widgets/base",
      "_view_module_version": "1.2.0",
      "_view_name": "StyleView",
      "description_width": ""
     }
    },
    "388f0a40159f43b79c7158abe6b6298e": {
     "model_module": "@jupyter-widgets/controls",
     "model_name": "HTMLModel",
     "state": {
      "_dom_classes": [],
      "_model_module": "@jupyter-widgets/controls",
      "_model_module_version": "1.5.0",
      "_model_name": "HTMLModel",
      "_view_count": null,
      "_view_module": "@jupyter-widgets/controls",
      "_view_module_version": "1.5.0",
      "_view_name": "HTMLView",
      "description": "",
      "description_tooltip": null,
      "layout": "IPY_MODEL_16fd325970b849c99a0ed5fef41154a3",
      "placeholder": "​",
      "style": "IPY_MODEL_514c3da7adc14173a286951c534f6c8b",
      "value": " 498M/498M [00:15&lt;00:00, 32.9MB/s]"
     }
    },
    "46ffc3de84804a4986baa188d8906a2a": {
     "model_module": "@jupyter-widgets/controls",
     "model_name": "ProgressStyleModel",
     "state": {
      "_model_module": "@jupyter-widgets/controls",
      "_model_module_version": "1.5.0",
      "_model_name": "ProgressStyleModel",
      "_view_count": null,
      "_view_module": "@jupyter-widgets/base",
      "_view_module_version": "1.2.0",
      "_view_name": "StyleView",
      "bar_color": null,
      "description_width": "initial"
     }
    },
    "4c5621d5cf2c48c0b346b1a3bb471265": {
     "model_module": "@jupyter-widgets/base",
     "model_name": "LayoutModel",
     "state": {
      "_model_module": "@jupyter-widgets/base",
      "_model_module_version": "1.2.0",
      "_model_name": "LayoutModel",
      "_view_count": null,
      "_view_module": "@jupyter-widgets/base",
      "_view_module_version": "1.2.0",
      "_view_name": "LayoutView",
      "align_content": null,
      "align_items": null,
      "align_self": null,
      "border": null,
      "bottom": null,
      "display": null,
      "flex": null,
      "flex_flow": null,
      "grid_area": null,
      "grid_auto_columns": null,
      "grid_auto_flow": null,
      "grid_auto_rows": null,
      "grid_column": null,
      "grid_gap": null,
      "grid_row": null,
      "grid_template_areas": null,
      "grid_template_columns": null,
      "grid_template_rows": null,
      "height": null,
      "justify_content": null,
      "justify_items": null,
      "left": null,
      "margin": null,
      "max_height": null,
      "max_width": null,
      "min_height": null,
      "min_width": null,
      "object_fit": null,
      "object_position": null,
      "order": null,
      "overflow": null,
      "overflow_x": null,
      "overflow_y": null,
      "padding": null,
      "right": null,
      "top": null,
      "visibility": null,
      "width": null
     }
    },
    "514c3da7adc14173a286951c534f6c8b": {
     "model_module": "@jupyter-widgets/controls",
     "model_name": "DescriptionStyleModel",
     "state": {
      "_model_module": "@jupyter-widgets/controls",
      "_model_module_version": "1.5.0",
      "_model_name": "DescriptionStyleModel",
      "_view_count": null,
      "_view_module": "@jupyter-widgets/base",
      "_view_module_version": "1.2.0",
      "_view_name": "StyleView",
      "description_width": ""
     }
    },
    "515f1c46bb2c4f9fbcda22b3edcc11e1": {
     "model_module": "@jupyter-widgets/controls",
     "model_name": "HBoxModel",
     "state": {
      "_dom_classes": [],
      "_model_module": "@jupyter-widgets/controls",
      "_model_module_version": "1.5.0",
      "_model_name": "HBoxModel",
      "_view_count": null,
      "_view_module": "@jupyter-widgets/controls",
      "_view_module_version": "1.5.0",
      "_view_name": "HBoxView",
      "box_style": "",
      "children": [
       "IPY_MODEL_655d863d5e554a2c8aa06c31643be33a",
       "IPY_MODEL_388f0a40159f43b79c7158abe6b6298e"
      ],
      "layout": "IPY_MODEL_fce09be21fba44f18e2722218ebeb15f"
     }
    },
    "521654e2e1ca438b841aea13a24054f2": {
     "model_module": "@jupyter-widgets/base",
     "model_name": "LayoutModel",
     "state": {
      "_model_module": "@jupyter-widgets/base",
      "_model_module_version": "1.2.0",
      "_model_name": "LayoutModel",
      "_view_count": null,
      "_view_module": "@jupyter-widgets/base",
      "_view_module_version": "1.2.0",
      "_view_name": "LayoutView",
      "align_content": null,
      "align_items": null,
      "align_self": null,
      "border": null,
      "bottom": null,
      "display": null,
      "flex": null,
      "flex_flow": null,
      "grid_area": null,
      "grid_auto_columns": null,
      "grid_auto_flow": null,
      "grid_auto_rows": null,
      "grid_column": null,
      "grid_gap": null,
      "grid_row": null,
      "grid_template_areas": null,
      "grid_template_columns": null,
      "grid_template_rows": null,
      "height": null,
      "justify_content": null,
      "justify_items": null,
      "left": null,
      "margin": null,
      "max_height": null,
      "max_width": null,
      "min_height": null,
      "min_width": null,
      "object_fit": null,
      "object_position": null,
      "order": null,
      "overflow": null,
      "overflow_x": null,
      "overflow_y": null,
      "padding": null,
      "right": null,
      "top": null,
      "visibility": null,
      "width": null
     }
    },
    "52dbcfa2481e40aa9b0ba33e81472d5f": {
     "model_module": "@jupyter-widgets/controls",
     "model_name": "HTMLModel",
     "state": {
      "_dom_classes": [],
      "_model_module": "@jupyter-widgets/controls",
      "_model_module_version": "1.5.0",
      "_model_name": "HTMLModel",
      "_view_count": null,
      "_view_module": "@jupyter-widgets/controls",
      "_view_module_version": "1.5.0",
      "_view_name": "HTMLView",
      "description": "",
      "description_tooltip": null,
      "layout": "IPY_MODEL_9419ddc097d845daa95babd76d1f378b",
      "placeholder": "​",
      "style": "IPY_MODEL_21099975b8534ca9a4fdd0c7ea9a3992",
      "value": " 504/504 [00:02&lt;00:00, 194B/s]"
     }
    },
    "53b491c64c364873bab73f2ed7f66f08": {
     "model_module": "@jupyter-widgets/controls",
     "model_name": "FloatProgressModel",
     "state": {
      "_dom_classes": [],
      "_model_module": "@jupyter-widgets/controls",
      "_model_module_version": "1.5.0",
      "_model_name": "FloatProgressModel",
      "_view_count": null,
      "_view_module": "@jupyter-widgets/controls",
      "_view_module_version": "1.5.0",
      "_view_name": "ProgressView",
      "bar_style": "success",
      "description": "Downloading: 100%",
      "description_tooltip": null,
      "layout": "IPY_MODEL_521654e2e1ca438b841aea13a24054f2",
      "max": 504,
      "min": 0,
      "orientation": "horizontal",
      "style": "IPY_MODEL_b72babdcdb9b43eba1e4a596473c5b59",
      "value": 504
     }
    },
    "55743158b30e4234810de67b2ad95e56": {
     "model_module": "@jupyter-widgets/controls",
     "model_name": "FloatProgressModel",
     "state": {
      "_dom_classes": [],
      "_model_module": "@jupyter-widgets/controls",
      "_model_module_version": "1.5.0",
      "_model_name": "FloatProgressModel",
      "_view_count": null,
      "_view_module": "@jupyter-widgets/controls",
      "_view_module_version": "1.5.0",
      "_view_name": "ProgressView",
      "bar_style": "success",
      "description": "Downloading: 100%",
      "description_tooltip": null,
      "layout": "IPY_MODEL_d9695f49135841d9ae871c980a0b474d",
      "max": 396417,
      "min": 0,
      "orientation": "horizontal",
      "style": "IPY_MODEL_46ffc3de84804a4986baa188d8906a2a",
      "value": 396417
     }
    },
    "5e18675427264a9fa471dfa8252828ad": {
     "model_module": "@jupyter-widgets/base",
     "model_name": "LayoutModel",
     "state": {
      "_model_module": "@jupyter-widgets/base",
      "_model_module_version": "1.2.0",
      "_model_name": "LayoutModel",
      "_view_count": null,
      "_view_module": "@jupyter-widgets/base",
      "_view_module_version": "1.2.0",
      "_view_name": "LayoutView",
      "align_content": null,
      "align_items": null,
      "align_self": null,
      "border": null,
      "bottom": null,
      "display": null,
      "flex": null,
      "flex_flow": null,
      "grid_area": null,
      "grid_auto_columns": null,
      "grid_auto_flow": null,
      "grid_auto_rows": null,
      "grid_column": null,
      "grid_gap": null,
      "grid_row": null,
      "grid_template_areas": null,
      "grid_template_columns": null,
      "grid_template_rows": null,
      "height": null,
      "justify_content": null,
      "justify_items": null,
      "left": null,
      "margin": null,
      "max_height": null,
      "max_width": null,
      "min_height": null,
      "min_width": null,
      "object_fit": null,
      "object_position": null,
      "order": null,
      "overflow": null,
      "overflow_x": null,
      "overflow_y": null,
      "padding": null,
      "right": null,
      "top": null,
      "visibility": null,
      "width": null
     }
    },
    "655d863d5e554a2c8aa06c31643be33a": {
     "model_module": "@jupyter-widgets/controls",
     "model_name": "FloatProgressModel",
     "state": {
      "_dom_classes": [],
      "_model_module": "@jupyter-widgets/controls",
      "_model_module_version": "1.5.0",
      "_model_name": "FloatProgressModel",
      "_view_count": null,
      "_view_module": "@jupyter-widgets/controls",
      "_view_module_version": "1.5.0",
      "_view_name": "ProgressView",
      "bar_style": "success",
      "description": "Downloading: 100%",
      "description_tooltip": null,
      "layout": "IPY_MODEL_a82263d570dc4b4c9bac838687da6248",
      "max": 498271049,
      "min": 0,
      "orientation": "horizontal",
      "style": "IPY_MODEL_afec581ebb084cc1a087379a624f50a9",
      "value": 498271049
     }
    },
    "6685b6008ea4469f82306368b2df426a": {
     "model_module": "@jupyter-widgets/controls",
     "model_name": "HTMLModel",
     "state": {
      "_dom_classes": [],
      "_model_module": "@jupyter-widgets/controls",
      "_model_module_version": "1.5.0",
      "_model_name": "HTMLModel",
      "_view_count": null,
      "_view_module": "@jupyter-widgets/controls",
      "_view_module_version": "1.5.0",
      "_view_name": "HTMLView",
      "description": "",
      "description_tooltip": null,
      "layout": "IPY_MODEL_1323c50898cf4dd0b15c2b4031f2d59f",
      "placeholder": "​",
      "style": "IPY_MODEL_6c1c9d7b8e224804ae60c5efb700b93e",
      "value": " 288/288 [00:00&lt;00:00, 2.93kB/s]"
     }
    },
    "6c1c9d7b8e224804ae60c5efb700b93e": {
     "model_module": "@jupyter-widgets/controls",
     "model_name": "DescriptionStyleModel",
     "state": {
      "_model_module": "@jupyter-widgets/controls",
      "_model_module_version": "1.5.0",
      "_model_name": "DescriptionStyleModel",
      "_view_count": null,
      "_view_module": "@jupyter-widgets/base",
      "_view_module_version": "1.2.0",
      "_view_name": "StyleView",
      "description_width": ""
     }
    },
    "6f4c3dc85f2c4a83b358575debfcd8be": {
     "model_module": "@jupyter-widgets/controls",
     "model_name": "HBoxModel",
     "state": {
      "_dom_classes": [],
      "_model_module": "@jupyter-widgets/controls",
      "_model_module_version": "1.5.0",
      "_model_name": "HBoxModel",
      "_view_count": null,
      "_view_module": "@jupyter-widgets/controls",
      "_view_module_version": "1.5.0",
      "_view_name": "HBoxView",
      "box_style": "",
      "children": [
       "IPY_MODEL_9d851e50e8c243288a8291c64cf9a920",
       "IPY_MODEL_6685b6008ea4469f82306368b2df426a"
      ],
      "layout": "IPY_MODEL_90c1e65ca42f45ef8a02ed64d8da3c09"
     }
    },
    "816231cad8404401ab9cc06fa0255748": {
     "model_module": "@jupyter-widgets/controls",
     "model_name": "HTMLModel",
     "state": {
      "_dom_classes": [],
      "_model_module": "@jupyter-widgets/controls",
      "_model_module_version": "1.5.0",
      "_model_name": "HTMLModel",
      "_view_count": null,
      "_view_module": "@jupyter-widgets/controls",
      "_view_module_version": "1.5.0",
      "_view_name": "HTMLView",
      "description": "",
      "description_tooltip": null,
      "layout": "IPY_MODEL_5e18675427264a9fa471dfa8252828ad",
      "placeholder": "​",
      "style": "IPY_MODEL_e0de25fdd43e4a06b60e2526c9abf831",
      "value": " 396k/396k [00:01&lt;00:00, 200kB/s]"
     }
    },
    "820e8118568543ce8a9903df102d27c4": {
     "model_module": "@jupyter-widgets/controls",
     "model_name": "DescriptionStyleModel",
     "state": {
      "_model_module": "@jupyter-widgets/controls",
      "_model_module_version": "1.5.0",
      "_model_name": "DescriptionStyleModel",
      "_view_count": null,
      "_view_module": "@jupyter-widgets/base",
      "_view_module_version": "1.2.0",
      "_view_name": "StyleView",
      "description_width": ""
     }
    },
    "881975483fe142f8a3979e5abe65f7ab": {
     "model_module": "@jupyter-widgets/base",
     "model_name": "LayoutModel",
     "state": {
      "_model_module": "@jupyter-widgets/base",
      "_model_module_version": "1.2.0",
      "_model_name": "LayoutModel",
      "_view_count": null,
      "_view_module": "@jupyter-widgets/base",
      "_view_module_version": "1.2.0",
      "_view_name": "LayoutView",
      "align_content": null,
      "align_items": null,
      "align_self": null,
      "border": null,
      "bottom": null,
      "display": null,
      "flex": null,
      "flex_flow": null,
      "grid_area": null,
      "grid_auto_columns": null,
      "grid_auto_flow": null,
      "grid_auto_rows": null,
      "grid_column": null,
      "grid_gap": null,
      "grid_row": null,
      "grid_template_areas": null,
      "grid_template_columns": null,
      "grid_template_rows": null,
      "height": null,
      "justify_content": null,
      "justify_items": null,
      "left": null,
      "margin": null,
      "max_height": null,
      "max_width": null,
      "min_height": null,
      "min_width": null,
      "object_fit": null,
      "object_position": null,
      "order": null,
      "overflow": null,
      "overflow_x": null,
      "overflow_y": null,
      "padding": null,
      "right": null,
      "top": null,
      "visibility": null,
      "width": null
     }
    },
    "8ece8a15312744c9a581cf60aa88451b": {
     "model_module": "@jupyter-widgets/controls",
     "model_name": "ProgressStyleModel",
     "state": {
      "_model_module": "@jupyter-widgets/controls",
      "_model_module_version": "1.5.0",
      "_model_name": "ProgressStyleModel",
      "_view_count": null,
      "_view_module": "@jupyter-widgets/base",
      "_view_module_version": "1.2.0",
      "_view_name": "StyleView",
      "bar_color": null,
      "description_width": "initial"
     }
    },
    "90c1e65ca42f45ef8a02ed64d8da3c09": {
     "model_module": "@jupyter-widgets/base",
     "model_name": "LayoutModel",
     "state": {
      "_model_module": "@jupyter-widgets/base",
      "_model_module_version": "1.2.0",
      "_model_name": "LayoutModel",
      "_view_count": null,
      "_view_module": "@jupyter-widgets/base",
      "_view_module_version": "1.2.0",
      "_view_name": "LayoutView",
      "align_content": null,
      "align_items": null,
      "align_self": null,
      "border": null,
      "bottom": null,
      "display": null,
      "flex": null,
      "flex_flow": null,
      "grid_area": null,
      "grid_auto_columns": null,
      "grid_auto_flow": null,
      "grid_auto_rows": null,
      "grid_column": null,
      "grid_gap": null,
      "grid_row": null,
      "grid_template_areas": null,
      "grid_template_columns": null,
      "grid_template_rows": null,
      "height": null,
      "justify_content": null,
      "justify_items": null,
      "left": null,
      "margin": null,
      "max_height": null,
      "max_width": null,
      "min_height": null,
      "min_width": null,
      "object_fit": null,
      "object_position": null,
      "order": null,
      "overflow": null,
      "overflow_x": null,
      "overflow_y": null,
      "padding": null,
      "right": null,
      "top": null,
      "visibility": null,
      "width": null
     }
    },
    "9130206fd930431db94003ce27074d87": {
     "model_module": "@jupyter-widgets/controls",
     "model_name": "HBoxModel",
     "state": {
      "_dom_classes": [],
      "_model_module": "@jupyter-widgets/controls",
      "_model_module_version": "1.5.0",
      "_model_name": "HBoxModel",
      "_view_count": null,
      "_view_module": "@jupyter-widgets/controls",
      "_view_module_version": "1.5.0",
      "_view_name": "HBoxView",
      "box_style": "",
      "children": [
       "IPY_MODEL_53b491c64c364873bab73f2ed7f66f08",
       "IPY_MODEL_52dbcfa2481e40aa9b0ba33e81472d5f"
      ],
      "layout": "IPY_MODEL_99e62e3b3f5c465186d82c16bfe670a5"
     }
    },
    "9419ddc097d845daa95babd76d1f378b": {
     "model_module": "@jupyter-widgets/base",
     "model_name": "LayoutModel",
     "state": {
      "_model_module": "@jupyter-widgets/base",
      "_model_module_version": "1.2.0",
      "_model_name": "LayoutModel",
      "_view_count": null,
      "_view_module": "@jupyter-widgets/base",
      "_view_module_version": "1.2.0",
      "_view_name": "LayoutView",
      "align_content": null,
      "align_items": null,
      "align_self": null,
      "border": null,
      "bottom": null,
      "display": null,
      "flex": null,
      "flex_flow": null,
      "grid_area": null,
      "grid_auto_columns": null,
      "grid_auto_flow": null,
      "grid_auto_rows": null,
      "grid_column": null,
      "grid_gap": null,
      "grid_row": null,
      "grid_template_areas": null,
      "grid_template_columns": null,
      "grid_template_rows": null,
      "height": null,
      "justify_content": null,
      "justify_items": null,
      "left": null,
      "margin": null,
      "max_height": null,
      "max_width": null,
      "min_height": null,
      "min_width": null,
      "object_fit": null,
      "object_position": null,
      "order": null,
      "overflow": null,
      "overflow_x": null,
      "overflow_y": null,
      "padding": null,
      "right": null,
      "top": null,
      "visibility": null,
      "width": null
     }
    },
    "99e62e3b3f5c465186d82c16bfe670a5": {
     "model_module": "@jupyter-widgets/base",
     "model_name": "LayoutModel",
     "state": {
      "_model_module": "@jupyter-widgets/base",
      "_model_module_version": "1.2.0",
      "_model_name": "LayoutModel",
      "_view_count": null,
      "_view_module": "@jupyter-widgets/base",
      "_view_module_version": "1.2.0",
      "_view_name": "LayoutView",
      "align_content": null,
      "align_items": null,
      "align_self": null,
      "border": null,
      "bottom": null,
      "display": null,
      "flex": null,
      "flex_flow": null,
      "grid_area": null,
      "grid_auto_columns": null,
      "grid_auto_flow": null,
      "grid_auto_rows": null,
      "grid_column": null,
      "grid_gap": null,
      "grid_row": null,
      "grid_template_areas": null,
      "grid_template_columns": null,
      "grid_template_rows": null,
      "height": null,
      "justify_content": null,
      "justify_items": null,
      "left": null,
      "margin": null,
      "max_height": null,
      "max_width": null,
      "min_height": null,
      "min_width": null,
      "object_fit": null,
      "object_position": null,
      "order": null,
      "overflow": null,
      "overflow_x": null,
      "overflow_y": null,
      "padding": null,
      "right": null,
      "top": null,
      "visibility": null,
      "width": null
     }
    },
    "9d851e50e8c243288a8291c64cf9a920": {
     "model_module": "@jupyter-widgets/controls",
     "model_name": "FloatProgressModel",
     "state": {
      "_dom_classes": [],
      "_model_module": "@jupyter-widgets/controls",
      "_model_module_version": "1.5.0",
      "_model_name": "FloatProgressModel",
      "_view_count": null,
      "_view_module": "@jupyter-widgets/controls",
      "_view_module_version": "1.5.0",
      "_view_name": "ProgressView",
      "bar_style": "success",
      "description": "Downloading: 100%",
      "description_tooltip": null,
      "layout": "IPY_MODEL_4c5621d5cf2c48c0b346b1a3bb471265",
      "max": 288,
      "min": 0,
      "orientation": "horizontal",
      "style": "IPY_MODEL_1809371e600e4cc0963a5e0e01e8c349",
      "value": 288
     }
    },
    "a3a3d06798ac462db712a4fa94a11cbe": {
     "model_module": "@jupyter-widgets/base",
     "model_name": "LayoutModel",
     "state": {
      "_model_module": "@jupyter-widgets/base",
      "_model_module_version": "1.2.0",
      "_model_name": "LayoutModel",
      "_view_count": null,
      "_view_module": "@jupyter-widgets/base",
      "_view_module_version": "1.2.0",
      "_view_name": "LayoutView",
      "align_content": null,
      "align_items": null,
      "align_self": null,
      "border": null,
      "bottom": null,
      "display": null,
      "flex": null,
      "flex_flow": null,
      "grid_area": null,
      "grid_auto_columns": null,
      "grid_auto_flow": null,
      "grid_auto_rows": null,
      "grid_column": null,
      "grid_gap": null,
      "grid_row": null,
      "grid_template_areas": null,
      "grid_template_columns": null,
      "grid_template_rows": null,
      "height": null,
      "justify_content": null,
      "justify_items": null,
      "left": null,
      "margin": null,
      "max_height": null,
      "max_width": null,
      "min_height": null,
      "min_width": null,
      "object_fit": null,
      "object_position": null,
      "order": null,
      "overflow": null,
      "overflow_x": null,
      "overflow_y": null,
      "padding": null,
      "right": null,
      "top": null,
      "visibility": null,
      "width": null
     }
    },
    "a82263d570dc4b4c9bac838687da6248": {
     "model_module": "@jupyter-widgets/base",
     "model_name": "LayoutModel",
     "state": {
      "_model_module": "@jupyter-widgets/base",
      "_model_module_version": "1.2.0",
      "_model_name": "LayoutModel",
      "_view_count": null,
      "_view_module": "@jupyter-widgets/base",
      "_view_module_version": "1.2.0",
      "_view_name": "LayoutView",
      "align_content": null,
      "align_items": null,
      "align_self": null,
      "border": null,
      "bottom": null,
      "display": null,
      "flex": null,
      "flex_flow": null,
      "grid_area": null,
      "grid_auto_columns": null,
      "grid_auto_flow": null,
      "grid_auto_rows": null,
      "grid_column": null,
      "grid_gap": null,
      "grid_row": null,
      "grid_template_areas": null,
      "grid_template_columns": null,
      "grid_template_rows": null,
      "height": null,
      "justify_content": null,
      "justify_items": null,
      "left": null,
      "margin": null,
      "max_height": null,
      "max_width": null,
      "min_height": null,
      "min_width": null,
      "object_fit": null,
      "object_position": null,
      "order": null,
      "overflow": null,
      "overflow_x": null,
      "overflow_y": null,
      "padding": null,
      "right": null,
      "top": null,
      "visibility": null,
      "width": null
     }
    },
    "afec581ebb084cc1a087379a624f50a9": {
     "model_module": "@jupyter-widgets/controls",
     "model_name": "ProgressStyleModel",
     "state": {
      "_model_module": "@jupyter-widgets/controls",
      "_model_module_version": "1.5.0",
      "_model_name": "ProgressStyleModel",
      "_view_count": null,
      "_view_module": "@jupyter-widgets/base",
      "_view_module_version": "1.2.0",
      "_view_name": "StyleView",
      "bar_color": null,
      "description_width": "initial"
     }
    },
    "b72babdcdb9b43eba1e4a596473c5b59": {
     "model_module": "@jupyter-widgets/controls",
     "model_name": "ProgressStyleModel",
     "state": {
      "_model_module": "@jupyter-widgets/controls",
      "_model_module_version": "1.5.0",
      "_model_name": "ProgressStyleModel",
      "_view_count": null,
      "_view_module": "@jupyter-widgets/base",
      "_view_module_version": "1.2.0",
      "_view_name": "StyleView",
      "bar_color": null,
      "description_width": "initial"
     }
    },
    "bb21972dadf843c781c30761a2bd4d33": {
     "model_module": "@jupyter-widgets/controls",
     "model_name": "HBoxModel",
     "state": {
      "_dom_classes": [],
      "_model_module": "@jupyter-widgets/controls",
      "_model_module_version": "1.5.0",
      "_model_name": "HBoxModel",
      "_view_count": null,
      "_view_module": "@jupyter-widgets/controls",
      "_view_module_version": "1.5.0",
      "_view_name": "HBoxView",
      "box_style": "",
      "children": [
       "IPY_MODEL_014c61f9264e4bfab94d7dfd6c988f19",
       "IPY_MODEL_eac23683984b41c5ad8dc9169cf4b388"
      ],
      "layout": "IPY_MODEL_a3a3d06798ac462db712a4fa94a11cbe"
     }
    },
    "d9695f49135841d9ae871c980a0b474d": {
     "model_module": "@jupyter-widgets/base",
     "model_name": "LayoutModel",
     "state": {
      "_model_module": "@jupyter-widgets/base",
      "_model_module_version": "1.2.0",
      "_model_name": "LayoutModel",
      "_view_count": null,
      "_view_module": "@jupyter-widgets/base",
      "_view_module_version": "1.2.0",
      "_view_name": "LayoutView",
      "align_content": null,
      "align_items": null,
      "align_self": null,
      "border": null,
      "bottom": null,
      "display": null,
      "flex": null,
      "flex_flow": null,
      "grid_area": null,
      "grid_auto_columns": null,
      "grid_auto_flow": null,
      "grid_auto_rows": null,
      "grid_column": null,
      "grid_gap": null,
      "grid_row": null,
      "grid_template_areas": null,
      "grid_template_columns": null,
      "grid_template_rows": null,
      "height": null,
      "justify_content": null,
      "justify_items": null,
      "left": null,
      "margin": null,
      "max_height": null,
      "max_width": null,
      "min_height": null,
      "min_width": null,
      "object_fit": null,
      "object_position": null,
      "order": null,
      "overflow": null,
      "overflow_x": null,
      "overflow_y": null,
      "padding": null,
      "right": null,
      "top": null,
      "visibility": null,
      "width": null
     }
    },
    "db80bba3822c472796a818601bf54ae9": {
     "model_module": "@jupyter-widgets/controls",
     "model_name": "HBoxModel",
     "state": {
      "_dom_classes": [],
      "_model_module": "@jupyter-widgets/controls",
      "_model_module_version": "1.5.0",
      "_model_name": "HBoxModel",
      "_view_count": null,
      "_view_module": "@jupyter-widgets/controls",
      "_view_module_version": "1.5.0",
      "_view_name": "HBoxView",
      "box_style": "",
      "children": [
       "IPY_MODEL_55743158b30e4234810de67b2ad95e56",
       "IPY_MODEL_816231cad8404401ab9cc06fa0255748"
      ],
      "layout": "IPY_MODEL_0132a0b3bf6c4ad6bd272c479be91c7d"
     }
    },
    "e003d0eb1af949969ac9144bba58cdc7": {
     "model_module": "@jupyter-widgets/base",
     "model_name": "LayoutModel",
     "state": {
      "_model_module": "@jupyter-widgets/base",
      "_model_module_version": "1.2.0",
      "_model_name": "LayoutModel",
      "_view_count": null,
      "_view_module": "@jupyter-widgets/base",
      "_view_module_version": "1.2.0",
      "_view_name": "LayoutView",
      "align_content": null,
      "align_items": null,
      "align_self": null,
      "border": null,
      "bottom": null,
      "display": null,
      "flex": null,
      "flex_flow": null,
      "grid_area": null,
      "grid_auto_columns": null,
      "grid_auto_flow": null,
      "grid_auto_rows": null,
      "grid_column": null,
      "grid_gap": null,
      "grid_row": null,
      "grid_template_areas": null,
      "grid_template_columns": null,
      "grid_template_rows": null,
      "height": null,
      "justify_content": null,
      "justify_items": null,
      "left": null,
      "margin": null,
      "max_height": null,
      "max_width": null,
      "min_height": null,
      "min_width": null,
      "object_fit": null,
      "object_position": null,
      "order": null,
      "overflow": null,
      "overflow_x": null,
      "overflow_y": null,
      "padding": null,
      "right": null,
      "top": null,
      "visibility": null,
      "width": null
     }
    },
    "e0de25fdd43e4a06b60e2526c9abf831": {
     "model_module": "@jupyter-widgets/controls",
     "model_name": "DescriptionStyleModel",
     "state": {
      "_model_module": "@jupyter-widgets/controls",
      "_model_module_version": "1.5.0",
      "_model_name": "DescriptionStyleModel",
      "_view_count": null,
      "_view_module": "@jupyter-widgets/base",
      "_view_module_version": "1.2.0",
      "_view_name": "StyleView",
      "description_width": ""
     }
    },
    "eac23683984b41c5ad8dc9169cf4b388": {
     "model_module": "@jupyter-widgets/controls",
     "model_name": "HTMLModel",
     "state": {
      "_dom_classes": [],
      "_model_module": "@jupyter-widgets/controls",
      "_model_module_version": "1.5.0",
      "_model_name": "HTMLModel",
      "_view_count": null,
      "_view_module": "@jupyter-widgets/controls",
      "_view_module_version": "1.5.0",
      "_view_name": "HTMLView",
      "description": "",
      "description_tooltip": null,
      "layout": "IPY_MODEL_881975483fe142f8a3979e5abe65f7ab",
      "placeholder": "​",
      "style": "IPY_MODEL_820e8118568543ce8a9903df102d27c4",
      "value": " 124/124 [00:00&lt;00:00, 197B/s]"
     }
    },
    "fce09be21fba44f18e2722218ebeb15f": {
     "model_module": "@jupyter-widgets/base",
     "model_name": "LayoutModel",
     "state": {
      "_model_module": "@jupyter-widgets/base",
      "_model_module_version": "1.2.0",
      "_model_name": "LayoutModel",
      "_view_count": null,
      "_view_module": "@jupyter-widgets/base",
      "_view_module_version": "1.2.0",
      "_view_name": "LayoutView",
      "align_content": null,
      "align_items": null,
      "align_self": null,
      "border": null,
      "bottom": null,
      "display": null,
      "flex": null,
      "flex_flow": null,
      "grid_area": null,
      "grid_auto_columns": null,
      "grid_auto_flow": null,
      "grid_auto_rows": null,
      "grid_column": null,
      "grid_gap": null,
      "grid_row": null,
      "grid_template_areas": null,
      "grid_template_columns": null,
      "grid_template_rows": null,
      "height": null,
      "justify_content": null,
      "justify_items": null,
      "left": null,
      "margin": null,
      "max_height": null,
      "max_width": null,
      "min_height": null,
      "min_width": null,
      "object_fit": null,
      "object_position": null,
      "order": null,
      "overflow": null,
      "overflow_x": null,
      "overflow_y": null,
      "padding": null,
      "right": null,
      "top": null,
      "visibility": null,
      "width": null
     }
    }
   }
  }
 },
 "nbformat": 4,
 "nbformat_minor": 1
}
